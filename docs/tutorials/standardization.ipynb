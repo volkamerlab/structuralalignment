{
 "cells": [
  {
   "cell_type": "markdown",
   "metadata": {},
   "source": [
    "# Implementation and evaluation of a computational standardization pipeline for chemical compounds\n",
    "\n",
    "> Based on [\"Trust, But Verify: On the Importance of Chemical Structure Curation in Cheminformatics and QSAR Modeling Research\" from 2010 (D. Fourches, ...)\"](https://pubmed.ncbi.nlm.nih.gov/20572635/)\n",
    "\n",
    "By Allen Dumler; reviewed by Jaime Rodríguez-Guerra, PhD."
   ]
  },
  {
   "cell_type": "markdown",
   "metadata": {},
   "source": [
    "### Introduction \n",
    "\n",
    "This notebook serves to showcase the functionality of the `opencadd.compounds.standardization` subpackage. \n",
    "\n",
    "We are following the recommended standardization steps of \"Trust, But Verify\"(Fourches et al., 2010), and using the dataset of the following paper: [Cheminformatics Analysis of Assertions Mined from Literature That Describe Drug-Induced Liver Injury in Different Species](https://pubs.acs.org/doi/10.1021/tx900326k)."
   ]
  },
  {
   "cell_type": "code",
   "execution_count": 2,
   "metadata": {},
   "outputs": [
    {
     "name": "stdout",
     "output_type": "stream",
     "text": [
      "Tutorial location: /home/allen/dev/opencadd/docs/tutorials\n",
      "Repo location:     /home/allen/dev/opencadd\n"
     ]
    }
   ],
   "source": [
    "from pathlib import Path\n",
    "\n",
    "HERE = Path(_dh[-1])\n",
    "REPO = HERE.parents[1]\n",
    "\n",
    "print(\"Tutorial location:\", HERE)\n",
    "print(\"Repo location:    \", REPO)"
   ]
  },
  {
   "cell_type": "code",
   "execution_count": 4,
   "metadata": {},
   "outputs": [],
   "source": [
    "# Import pandas and numpy\n",
    "import pandas as pd\n",
    "import numpy as np\n",
    "\n",
    "# import modules and Standardization API functions needed\n",
    "from rdkit import Chem\n",
    "\n",
    "# from rdkit.Chem.PandasTools import RemoveSaltsFromFrame\n",
    "from opencadd.compounds.standardization import (\n",
    "    convert_format,\n",
    "    handle_fragments,\n",
    "    disconnect_metals,\n",
    "    detect_inorganics,\n",
    "    remove_salts,\n",
    "    normalize,\n",
    "    handle_tautomers,\n",
    "    validate_molecules,\n",
    "    detect_mixtures,\n",
    "    detect_metals,\n",
    ")"
   ]
  },
  {
   "cell_type": "markdown",
   "metadata": {},
   "source": [
    "### Initial dataset import and cleaning of empty entries\n",
    "------------------------------------------------\n",
    "The first step before the standardization steps are started is a import of the dataset as an Pandas Dataframe, only including the columns necessary. In this case we use the <b>IDs</b>, <b>Names</b> and <b>SMILEs</b> column.<br>\n",
    "Then we search for all entries which actually don't have any strings saved under <b>SMILEs</b> and kick them from the dataset, since they are not holding any information.<br>\n",
    "After the import we add a <b>Failed_at</b> column to track in which standardization step the entry failed. \n",
    "The intial `task_number` will be 0, which leads to an default <b>Failed_at</b>-value of 0 for all entries, where null stands for <i>not failed</i> . "
   ]
  },
  {
   "cell_type": "code",
   "execution_count": 5,
   "metadata": {},
   "outputs": [
    {
     "data": {
      "text/html": [
       "<div>\n",
       "<style scoped>\n",
       "    .dataframe tbody tr th:only-of-type {\n",
       "        vertical-align: middle;\n",
       "    }\n",
       "\n",
       "    .dataframe tbody tr th {\n",
       "        vertical-align: top;\n",
       "    }\n",
       "\n",
       "    .dataframe thead th {\n",
       "        text-align: right;\n",
       "    }\n",
       "</style>\n",
       "<table border=\"1\" class=\"dataframe\">\n",
       "  <thead>\n",
       "    <tr style=\"text-align: right;\">\n",
       "      <th></th>\n",
       "      <th>IDs</th>\n",
       "      <th>Names</th>\n",
       "      <th>SMILEs</th>\n",
       "      <th>Failed_at</th>\n",
       "    </tr>\n",
       "  </thead>\n",
       "  <tbody>\n",
       "    <tr>\n",
       "      <th>194</th>\n",
       "      <td>195</td>\n",
       "      <td>Cinoxacin</td>\n",
       "      <td>CCN1N=C(C(O)=O)C(=O)c2cc3OCOc3cc12</td>\n",
       "      <td>0</td>\n",
       "    </tr>\n",
       "    <tr>\n",
       "      <th>195</th>\n",
       "      <td>196</td>\n",
       "      <td>Ciprofibrate</td>\n",
       "      <td>CC(C)(Oc1ccc(cc1)C1CC1(Cl)Cl)C(O)=O</td>\n",
       "      <td>0</td>\n",
       "    </tr>\n",
       "    <tr>\n",
       "      <th>196</th>\n",
       "      <td>197</td>\n",
       "      <td>Ciprofloxacin</td>\n",
       "      <td>OC(=O)C1=CN(C2CC2)c2cc(N3CCNCC3)c(F)cc2C1=O</td>\n",
       "      <td>0</td>\n",
       "    </tr>\n",
       "    <tr>\n",
       "      <th>197</th>\n",
       "      <td>198</td>\n",
       "      <td>Cisapride</td>\n",
       "      <td>COC1CN(CCCOc2ccc(F)cc2)CCC1NC(=O)c1cc(Cl)c(N)c...</td>\n",
       "      <td>0</td>\n",
       "    </tr>\n",
       "    <tr>\n",
       "      <th>198</th>\n",
       "      <td>199</td>\n",
       "      <td>Citalopram</td>\n",
       "      <td>CN(C)CCCC1(OCc2cc(ccc12)C#N)c1ccc(F)cc1</td>\n",
       "      <td>0</td>\n",
       "    </tr>\n",
       "    <tr>\n",
       "      <th>199</th>\n",
       "      <td>200</td>\n",
       "      <td>Citric acid</td>\n",
       "      <td>OC(=O)CC(O)(CC(O)=O)C(O)=O</td>\n",
       "      <td>0</td>\n",
       "    </tr>\n",
       "    <tr>\n",
       "      <th>200</th>\n",
       "      <td>201</td>\n",
       "      <td>zirconium</td>\n",
       "      <td>CCO[Zr](OCC)(OCC)OCC</td>\n",
       "      <td>0</td>\n",
       "    </tr>\n",
       "    <tr>\n",
       "      <th>201</th>\n",
       "      <td>202</td>\n",
       "      <td>hemoglobin</td>\n",
       "      <td>CC1=C(C2=CC3=NC(=CC4=C(C(=C([N-]4)C=C5C(=C(C(=...</td>\n",
       "      <td>0</td>\n",
       "    </tr>\n",
       "    <tr>\n",
       "      <th>202</th>\n",
       "      <td>203</td>\n",
       "      <td>test_salt</td>\n",
       "      <td>[Al].N.[Ba].[Bi].Br.[Ca].Cl.F.I.[K].[Li].[Mg]....</td>\n",
       "      <td>0</td>\n",
       "    </tr>\n",
       "    <tr>\n",
       "      <th>203</th>\n",
       "      <td>204</td>\n",
       "      <td>test_duplicate</td>\n",
       "      <td>[Al].N.[Ba].[Bi].Br.[Ca].Cl.F.I.[K].[Li].[Mg]....</td>\n",
       "      <td>0</td>\n",
       "    </tr>\n",
       "  </tbody>\n",
       "</table>\n",
       "</div>"
      ],
      "text/plain": [
       "     IDs           Names                                             SMILEs  \\\n",
       "194  195       Cinoxacin                 CCN1N=C(C(O)=O)C(=O)c2cc3OCOc3cc12   \n",
       "195  196    Ciprofibrate                CC(C)(Oc1ccc(cc1)C1CC1(Cl)Cl)C(O)=O   \n",
       "196  197   Ciprofloxacin        OC(=O)C1=CN(C2CC2)c2cc(N3CCNCC3)c(F)cc2C1=O   \n",
       "197  198       Cisapride  COC1CN(CCCOc2ccc(F)cc2)CCC1NC(=O)c1cc(Cl)c(N)c...   \n",
       "198  199      Citalopram            CN(C)CCCC1(OCc2cc(ccc12)C#N)c1ccc(F)cc1   \n",
       "199  200     Citric acid                         OC(=O)CC(O)(CC(O)=O)C(O)=O   \n",
       "200  201       zirconium                               CCO[Zr](OCC)(OCC)OCC   \n",
       "201  202      hemoglobin  CC1=C(C2=CC3=NC(=CC4=C(C(=C([N-]4)C=C5C(=C(C(=...   \n",
       "202  203       test_salt  [Al].N.[Ba].[Bi].Br.[Ca].Cl.F.I.[K].[Li].[Mg]....   \n",
       "203  204  test_duplicate  [Al].N.[Ba].[Bi].Br.[Ca].Cl.F.I.[K].[Li].[Mg]....   \n",
       "\n",
       "     Failed_at  \n",
       "194          0  \n",
       "195          0  \n",
       "196          0  \n",
       "197          0  \n",
       "198          0  \n",
       "199          0  \n",
       "200          0  \n",
       "201          0  \n",
       "202          0  \n",
       "203          0  "
      ]
     },
     "execution_count": 5,
     "metadata": {},
     "output_type": "execute_result"
    }
   ],
   "source": [
    "task_number = 0\n",
    "\n",
    "# Importing the test-dataset\n",
    "dataset = pd.read_csv(HERE / \"data\" / \"standardization_test_data.csv\")\n",
    "\n",
    "# Filter for needed columns\n",
    "dataset = dataset[[\"IDs\", \"Names\", \"SMILEs\"]]\n",
    "\n",
    "# Kick all empty entries\n",
    "empty_smiles = dataset[(dataset[\"SMILEs\"].isnull())]\n",
    "\n",
    "# The empty_smiles dataframe could be used to check which entires are affected and review the dataset again.\n",
    "dataset = dataset[(dataset[\"SMILEs\"].notna())]\n",
    "\n",
    "# Setting a initial score of 0 for all entries in the 'Failed_at'-column\n",
    "dataset[\"Failed_at\"] = dataset[\"SMILEs\"].apply(\n",
    "    lambda x, task_number=task_number: task_number\n",
    ")\n",
    "\n",
    "dataset = dataset.reset_index(drop=True)\n",
    "# Show the current form of the main-dataframe\n",
    "dataset.tail(10)"
   ]
  },
  {
   "cell_type": "markdown",
   "metadata": {},
   "source": [
    "### Step 1: Conversion of SMILEs to mol\n",
    "------------------------------------------\n",
    "\n",
    "__Convert the SMILES representation format of the compounds into Mol-files__\n",
    "\n",
    "RDKit performs a sanitization of the molecule by default. In this sanitization step RDKit tries to kekulize the mols (generates alternate Lewis structures). This step might fail, when the structure is aromatic, but no Hydrogen position is provided. \n",
    "\n",
    "> TODO: !(This explanation might be a bit short and not fully correct, check this later again)!\n",
    "\n",
    "If the conversion from SMILE to mol fails, then those SMILEs will get a **Failed_at** marker added. \n",
    "\n",
    "To avoid the sanitization of the molecule `convert_smiles_to_mol` can be called with the argument `sanitize=False`. Keep in mind that the generation of different Lewis structures serves to find different representation formats of the same molecule. \n",
    "\n",
    "References:\n",
    "\n",
    "* https://chemistry.stackexchange.com/questions/116498/what-is-kekulization-in-rdkit\n",
    "* https://rdkit-discuss.narkive.com/QwnqcKcM/another-can-t-kekulize-mol-observation\n",
    "* https://www.rdkit.org/docs/Cookbook.html\n",
    "* https://www.rdkit.org/docs/source/rdkit.Chem.rdmolfiles.html\n"
   ]
  },
  {
   "cell_type": "markdown",
   "metadata": {},
   "source": [
    "#### Task 1: Convert to Mol"
   ]
  },
  {
   "cell_type": "code",
   "execution_count": 6,
   "metadata": {},
   "outputs": [
    {
     "name": "stderr",
     "output_type": "stream",
     "text": [
      "RDKit ERROR: [18:52:44] Can't kekulize mol.  Unkekulized atoms: 1 2 3 4 5 7 9\n",
      "RDKit ERROR: \n",
      "RDKit ERROR: [18:52:44] Can't kekulize mol.  Unkekulized atoms: 2 3 4 6 7 8 10 11 12\n",
      "RDKit ERROR: \n",
      "RDKit ERROR: [18:52:44] Can't kekulize mol.  Unkekulized atoms: 6 8 10\n",
      "RDKit ERROR: \n",
      "RDKit ERROR: [18:52:44] Can't kekulize mol.  Unkekulized atoms: 7 8 9 10 11 12 13 14 15\n",
      "RDKit ERROR: \n",
      "RDKit ERROR: [18:52:44] Can't kekulize mol.  Unkekulized atoms: 57 58 60\n",
      "RDKit ERROR: \n",
      "RDKit ERROR: [18:52:44] Can't kekulize mol.  Unkekulized atoms: 14 15 16 17 18 19 20 21 23\n",
      "RDKit ERROR: \n",
      "RDKit ERROR: [18:52:44] Can't kekulize mol.  Unkekulized atoms: 11 12 13 15 16 17 19 20 21\n",
      "RDKit ERROR: \n"
     ]
    },
    {
     "data": {
      "text/html": [
       "<div>\n",
       "<style scoped>\n",
       "    .dataframe tbody tr th:only-of-type {\n",
       "        vertical-align: middle;\n",
       "    }\n",
       "\n",
       "    .dataframe tbody tr th {\n",
       "        vertical-align: top;\n",
       "    }\n",
       "\n",
       "    .dataframe thead th {\n",
       "        text-align: right;\n",
       "    }\n",
       "</style>\n",
       "<table border=\"1\" class=\"dataframe\">\n",
       "  <thead>\n",
       "    <tr style=\"text-align: right;\">\n",
       "      <th></th>\n",
       "      <th>IDs</th>\n",
       "      <th>Names</th>\n",
       "      <th>SMILEs</th>\n",
       "      <th>Failed_at</th>\n",
       "      <th>mol</th>\n",
       "    </tr>\n",
       "  </thead>\n",
       "  <tbody>\n",
       "    <tr>\n",
       "      <th>0</th>\n",
       "      <td>1</td>\n",
       "      <td>(R)-Roscovitine</td>\n",
       "      <td>CCC(CO)Nc1nc(NCc2ccccc2)c2ncn(C(C)C)c2n1.[Ca]</td>\n",
       "      <td>0</td>\n",
       "      <td>&lt;rdkit.Chem.rdchem.Mol object at 0x7fb0b40fe8a0&gt;</td>\n",
       "    </tr>\n",
       "    <tr>\n",
       "      <th>1</th>\n",
       "      <td>2</td>\n",
       "      <td>17-Methyltestosterone</td>\n",
       "      <td>CC1(O)CCC2C3CCC4=CC(=O)CCC4(C)C3CCC12C</td>\n",
       "      <td>0</td>\n",
       "      <td>&lt;rdkit.Chem.rdchem.Mol object at 0x7fb0b410e210&gt;</td>\n",
       "    </tr>\n",
       "    <tr>\n",
       "      <th>2</th>\n",
       "      <td>3</td>\n",
       "      <td>1-alpha-Hydroxycholecalciferol</td>\n",
       "      <td>CC(C)CCCC(C)C1CCC2C(CCCC12C)=CC=C1CC(O)CC(O)C1=C</td>\n",
       "      <td>0</td>\n",
       "      <td>&lt;rdkit.Chem.rdchem.Mol object at 0x7fb0b410e1c0&gt;</td>\n",
       "    </tr>\n",
       "    <tr>\n",
       "      <th>3</th>\n",
       "      <td>4</td>\n",
       "      <td>2,3-Dimercaptosuccinic acid</td>\n",
       "      <td>OC(=O)C(S)C(S)C(O)=O</td>\n",
       "      <td>0</td>\n",
       "      <td>&lt;rdkit.Chem.rdchem.Mol object at 0x7fb0b410e120&gt;</td>\n",
       "    </tr>\n",
       "    <tr>\n",
       "      <th>4</th>\n",
       "      <td>5</td>\n",
       "      <td>2,4,6-Trinitrotoluene</td>\n",
       "      <td>Cc1c(cc(cc1N(=O)=O)N(=O)=O)N(=O)=O</td>\n",
       "      <td>0</td>\n",
       "      <td>&lt;rdkit.Chem.rdchem.Mol object at 0x7fb0b410e170&gt;</td>\n",
       "    </tr>\n",
       "    <tr>\n",
       "      <th>5</th>\n",
       "      <td>6</td>\n",
       "      <td>2-Deoxy-D-glucose</td>\n",
       "      <td>OCC1OC(O)CC(O)C1O.O1CCOCC1</td>\n",
       "      <td>0</td>\n",
       "      <td>&lt;rdkit.Chem.rdchem.Mol object at 0x7fb0b410e080&gt;</td>\n",
       "    </tr>\n",
       "    <tr>\n",
       "      <th>6</th>\n",
       "      <td>7</td>\n",
       "      <td>2'-fluoro-5-methylarabinosyluracil</td>\n",
       "      <td>CC1=CN(C2OC(CO)C(O)C2F)C(=O)NC1=O</td>\n",
       "      <td>0</td>\n",
       "      <td>&lt;rdkit.Chem.rdchem.Mol object at 0x7fb0b410e0d0&gt;</td>\n",
       "    </tr>\n",
       "    <tr>\n",
       "      <th>7</th>\n",
       "      <td>8</td>\n",
       "      <td>2-Methoxyestradiol</td>\n",
       "      <td>COc1cc2C3CCC4(C)C(O)CCC4C3CCc2cc1O</td>\n",
       "      <td>0</td>\n",
       "      <td>&lt;rdkit.Chem.rdchem.Mol object at 0x7fb0b410e2b0&gt;</td>\n",
       "    </tr>\n",
       "    <tr>\n",
       "      <th>8</th>\n",
       "      <td>9</td>\n",
       "      <td>4-aminobenzoic acid</td>\n",
       "      <td>Nc1ccc(cc1)C(O)=O</td>\n",
       "      <td>0</td>\n",
       "      <td>&lt;rdkit.Chem.rdchem.Mol object at 0x7fb0b410e3a0&gt;</td>\n",
       "    </tr>\n",
       "    <tr>\n",
       "      <th>9</th>\n",
       "      <td>10</td>\n",
       "      <td>4-Hydroxytamoxifen</td>\n",
       "      <td>CCC(c1ccccc1)=C(c1ccc(O)cc1)c1ccc(OCCN(C)C)cc1</td>\n",
       "      <td>0</td>\n",
       "      <td>&lt;rdkit.Chem.rdchem.Mol object at 0x7fb0b410e3f0&gt;</td>\n",
       "    </tr>\n",
       "    <tr>\n",
       "      <th>10</th>\n",
       "      <td>11</td>\n",
       "      <td>5 fluorouracil</td>\n",
       "      <td>FC1=CNC(=O)NC1=O</td>\n",
       "      <td>0</td>\n",
       "      <td>&lt;rdkit.Chem.rdchem.Mol object at 0x7fb0b410e350&gt;</td>\n",
       "    </tr>\n",
       "    <tr>\n",
       "      <th>11</th>\n",
       "      <td>12</td>\n",
       "      <td>5-Azacitidine</td>\n",
       "      <td>NC1=NC(=O)N(C=N1)C1OC(CO)C(O)C1O</td>\n",
       "      <td>0</td>\n",
       "      <td>&lt;rdkit.Chem.rdchem.Mol object at 0x7fb0b410e300&gt;</td>\n",
       "    </tr>\n",
       "    <tr>\n",
       "      <th>12</th>\n",
       "      <td>13</td>\n",
       "      <td>5-Bromouracil</td>\n",
       "      <td>OCC1OC(CC1O)N1C=C(Br)C(=O)NC1=O</td>\n",
       "      <td>0</td>\n",
       "      <td>&lt;rdkit.Chem.rdchem.Mol object at 0x7fb0b410e260&gt;</td>\n",
       "    </tr>\n",
       "    <tr>\n",
       "      <th>13</th>\n",
       "      <td>14</td>\n",
       "      <td>5-fluoro-2'-deoxyuridine</td>\n",
       "      <td>OCC1OC(CC1O)N1C=C(F)C(=O)NC1=O</td>\n",
       "      <td>0</td>\n",
       "      <td>&lt;rdkit.Chem.rdchem.Mol object at 0x7fb0b410e4e0&gt;</td>\n",
       "    </tr>\n",
       "    <tr>\n",
       "      <th>14</th>\n",
       "      <td>15</td>\n",
       "      <td>6-Mercaptopurine</td>\n",
       "      <td>Sc1ncnc2[nH]c[nH]c12</td>\n",
       "      <td>1</td>\n",
       "      <td>None</td>\n",
       "    </tr>\n",
       "    <tr>\n",
       "      <th>15</th>\n",
       "      <td>16</td>\n",
       "      <td>Acadesine</td>\n",
       "      <td>NC(=O)c1ncn(C2OC(CO)C(O)C2O)c1N</td>\n",
       "      <td>0</td>\n",
       "      <td>&lt;rdkit.Chem.rdchem.Mol object at 0x7fb0b410e530&gt;</td>\n",
       "    </tr>\n",
       "  </tbody>\n",
       "</table>\n",
       "</div>"
      ],
      "text/plain": [
       "    IDs                               Names  \\\n",
       "0     1                     (R)-Roscovitine   \n",
       "1     2               17-Methyltestosterone   \n",
       "2     3      1-alpha-Hydroxycholecalciferol   \n",
       "3     4         2,3-Dimercaptosuccinic acid   \n",
       "4     5               2,4,6-Trinitrotoluene   \n",
       "5     6                   2-Deoxy-D-glucose   \n",
       "6     7  2'-fluoro-5-methylarabinosyluracil   \n",
       "7     8                  2-Methoxyestradiol   \n",
       "8     9                 4-aminobenzoic acid   \n",
       "9    10                  4-Hydroxytamoxifen   \n",
       "10   11                      5 fluorouracil   \n",
       "11   12                       5-Azacitidine   \n",
       "12   13                       5-Bromouracil   \n",
       "13   14            5-fluoro-2'-deoxyuridine   \n",
       "14   15                    6-Mercaptopurine   \n",
       "15   16                           Acadesine   \n",
       "\n",
       "                                              SMILEs  Failed_at  \\\n",
       "0      CCC(CO)Nc1nc(NCc2ccccc2)c2ncn(C(C)C)c2n1.[Ca]          0   \n",
       "1             CC1(O)CCC2C3CCC4=CC(=O)CCC4(C)C3CCC12C          0   \n",
       "2   CC(C)CCCC(C)C1CCC2C(CCCC12C)=CC=C1CC(O)CC(O)C1=C          0   \n",
       "3                               OC(=O)C(S)C(S)C(O)=O          0   \n",
       "4                 Cc1c(cc(cc1N(=O)=O)N(=O)=O)N(=O)=O          0   \n",
       "5                         OCC1OC(O)CC(O)C1O.O1CCOCC1          0   \n",
       "6                  CC1=CN(C2OC(CO)C(O)C2F)C(=O)NC1=O          0   \n",
       "7                 COc1cc2C3CCC4(C)C(O)CCC4C3CCc2cc1O          0   \n",
       "8                                  Nc1ccc(cc1)C(O)=O          0   \n",
       "9     CCC(c1ccccc1)=C(c1ccc(O)cc1)c1ccc(OCCN(C)C)cc1          0   \n",
       "10                                  FC1=CNC(=O)NC1=O          0   \n",
       "11                  NC1=NC(=O)N(C=N1)C1OC(CO)C(O)C1O          0   \n",
       "12                   OCC1OC(CC1O)N1C=C(Br)C(=O)NC1=O          0   \n",
       "13                    OCC1OC(CC1O)N1C=C(F)C(=O)NC1=O          0   \n",
       "14                              Sc1ncnc2[nH]c[nH]c12          1   \n",
       "15                   NC(=O)c1ncn(C2OC(CO)C(O)C2O)c1N          0   \n",
       "\n",
       "                                                 mol  \n",
       "0   <rdkit.Chem.rdchem.Mol object at 0x7fb0b40fe8a0>  \n",
       "1   <rdkit.Chem.rdchem.Mol object at 0x7fb0b410e210>  \n",
       "2   <rdkit.Chem.rdchem.Mol object at 0x7fb0b410e1c0>  \n",
       "3   <rdkit.Chem.rdchem.Mol object at 0x7fb0b410e120>  \n",
       "4   <rdkit.Chem.rdchem.Mol object at 0x7fb0b410e170>  \n",
       "5   <rdkit.Chem.rdchem.Mol object at 0x7fb0b410e080>  \n",
       "6   <rdkit.Chem.rdchem.Mol object at 0x7fb0b410e0d0>  \n",
       "7   <rdkit.Chem.rdchem.Mol object at 0x7fb0b410e2b0>  \n",
       "8   <rdkit.Chem.rdchem.Mol object at 0x7fb0b410e3a0>  \n",
       "9   <rdkit.Chem.rdchem.Mol object at 0x7fb0b410e3f0>  \n",
       "10  <rdkit.Chem.rdchem.Mol object at 0x7fb0b410e350>  \n",
       "11  <rdkit.Chem.rdchem.Mol object at 0x7fb0b410e300>  \n",
       "12  <rdkit.Chem.rdchem.Mol object at 0x7fb0b410e260>  \n",
       "13  <rdkit.Chem.rdchem.Mol object at 0x7fb0b410e4e0>  \n",
       "14                                              None  \n",
       "15  <rdkit.Chem.rdchem.Mol object at 0x7fb0b410e530>  "
      ]
     },
     "execution_count": 6,
     "metadata": {},
     "output_type": "execute_result"
    }
   ],
   "source": [
    "# Setting up the task_number\n",
    "task_number = 1\n",
    "\n",
    "# A column called mol is beeing added to the dataframe to store the mol-files\n",
    "dataset[\"mol\"] = dataset.loc[:, (\"SMILEs\")].apply(convert_format.convert_smiles_to_mol)\n",
    "\n",
    "# Add task_number to failed entries\n",
    "dataset.loc[dataset[\"mol\"].isnull(), [\"Failed_at\"]] = task_number\n",
    "\n",
    "dataset.head(16)"
   ]
  },
  {
   "cell_type": "markdown",
   "metadata": {},
   "source": [
    "### Step 2: Removal of Inorganics and Mixtures\n",
    "--------------------------------------------------\n",
    "\n",
    "Since  most  cheminformatical  applications  are  not  capable  of  processing  inorganic structures,  there  is the  need  for  a  removal  of  those  entries,  prior  to  any  processing.<br>\n",
    "This is divided into two steps:<br>\n",
    "First removing all entries not containing any Carbon at all, which are therefore not organic.<br>\n",
    "Secondly filtering out all compounds with inorganic substructures. <br>\n",
    "\n",
    "Similar problems occur for mixtures. Since most applications can not calculate descriptors for mixtures, a filtering has to happen prior to any processing. <br>\n",
    "Additionally, since \"*inorganic compounds are known to have biological effects, like for example toxic effects*\" (Fourches 2010), we can often not distinguish if the recored activity of a mixed compound is caused by it's organic or inorganic part. Therefore the entry is useless and can be discarded. \n",
    "\n",
    "\n",
    "Due to the fact, that the treatment is not as simple as it apprears the paper (Fourches, 2010) recommends to delete records containing mixtures.\n",
    "Common and widely used practice is to retain molecules with the highest molecular weight or the largest number of atoms(Chapter 2.1. Fourches 2010), but the paper (Fourches, 2010) states this might not be the best solution, and further investigation in mixtures should only be done if there is a reason to belive that the biological activity is really caused by the largest molecule and not the mixture itself."
   ]
  },
  {
   "cell_type": "markdown",
   "metadata": {},
   "source": [
    "#### Task 2: Filter entries without Carbon\n",
    "\n",
    "To determine if a entry is a organic molecule, it obivious first task is to check for the presence of carbon. Therefore the `detect_carbon` function can be used. It checks for the presence of carbon atoms. If the functions finds at least one Carbon atom, it returns a boolean value of **True**, if not a value of **False**. All entries that return **False** will get a the number of the current task (2) written into the *Failed_at* column.\n",
    "All entries that already have failed in another step won't the considered in this step, since they are already disqualified for further analysis."
   ]
  },
  {
   "cell_type": "code",
   "execution_count": 7,
   "metadata": {},
   "outputs": [],
   "source": [
    "# Setting up the task_number\n",
    "task_number = 2\n",
    "\n",
    "# Check for Carbon\n",
    "dataset[\"Carbon_present\"] = dataset.apply(\n",
    "    lambda row: detect_inorganics.detect_carbon(row.mol)\n",
    "    if row.Failed_at == 0\n",
    "    else None,\n",
    "    axis=1,\n",
    ")\n",
    "\n",
    "# Add task_number to failed entries\n",
    "dataset.loc[dataset[\"Carbon_present\"] == False, [\"Failed_at\"]] = task_number"
   ]
  },
  {
   "cell_type": "markdown",
   "metadata": {},
   "source": [
    "Below you can see all entries, that don't contain any Carbon and thereby it can be assumed that they are inorganic molecules."
   ]
  },
  {
   "cell_type": "code",
   "execution_count": 8,
   "metadata": {},
   "outputs": [
    {
     "data": {
      "text/html": [
       "<div>\n",
       "<style scoped>\n",
       "    .dataframe tbody tr th:only-of-type {\n",
       "        vertical-align: middle;\n",
       "    }\n",
       "\n",
       "    .dataframe tbody tr th {\n",
       "        vertical-align: top;\n",
       "    }\n",
       "\n",
       "    .dataframe thead th {\n",
       "        text-align: right;\n",
       "    }\n",
       "</style>\n",
       "<table border=\"1\" class=\"dataframe\">\n",
       "  <thead>\n",
       "    <tr style=\"text-align: right;\">\n",
       "      <th></th>\n",
       "      <th>IDs</th>\n",
       "      <th>Names</th>\n",
       "      <th>SMILEs</th>\n",
       "      <th>Failed_at</th>\n",
       "      <th>mol</th>\n",
       "      <th>Carbon_present</th>\n",
       "    </tr>\n",
       "  </thead>\n",
       "  <tbody>\n",
       "    <tr>\n",
       "      <th>202</th>\n",
       "      <td>203</td>\n",
       "      <td>test_salt</td>\n",
       "      <td>[Al].N.[Ba].[Bi].Br.[Ca].Cl.F.I.[K].[Li].[Mg]....</td>\n",
       "      <td>2</td>\n",
       "      <td>&lt;rdkit.Chem.rdchem.Mol object at 0x7fb0b407f760&gt;</td>\n",
       "      <td>False</td>\n",
       "    </tr>\n",
       "    <tr>\n",
       "      <th>203</th>\n",
       "      <td>204</td>\n",
       "      <td>test_duplicate</td>\n",
       "      <td>[Al].N.[Ba].[Bi].Br.[Ca].Cl.F.I.[K].[Li].[Mg]....</td>\n",
       "      <td>2</td>\n",
       "      <td>&lt;rdkit.Chem.rdchem.Mol object at 0x7fb0b407f7b0&gt;</td>\n",
       "      <td>False</td>\n",
       "    </tr>\n",
       "  </tbody>\n",
       "</table>\n",
       "</div>"
      ],
      "text/plain": [
       "     IDs           Names                                             SMILEs  \\\n",
       "202  203       test_salt  [Al].N.[Ba].[Bi].Br.[Ca].Cl.F.I.[K].[Li].[Mg]....   \n",
       "203  204  test_duplicate  [Al].N.[Ba].[Bi].Br.[Ca].Cl.F.I.[K].[Li].[Mg]....   \n",
       "\n",
       "     Failed_at                                               mol  \\\n",
       "202          2  <rdkit.Chem.rdchem.Mol object at 0x7fb0b407f760>   \n",
       "203          2  <rdkit.Chem.rdchem.Mol object at 0x7fb0b407f7b0>   \n",
       "\n",
       "    Carbon_present  \n",
       "202          False  \n",
       "203          False  "
      ]
     },
     "execution_count": 8,
     "metadata": {},
     "output_type": "execute_result"
    }
   ],
   "source": [
    "dataset[dataset[\"Failed_at\"] == 2]"
   ]
  },
  {
   "cell_type": "markdown",
   "metadata": {},
   "source": [
    "#### Task 3: Filter entries with inorganic components\n",
    "\n",
    "While we filtered out all molecules not containing any Carbon, now we further inspect the entries for elements which can not or only rarely occur in organic molecules or are contained by them. This might vary a bit depending on the defenition and scope. For this we can use the `detect_inorganic` function.\n",
    "It is recommended to check what can be handled by software for later use of the dataset. A customization of the allowed elements in `detect_inorganic` is possible, and can easily be provided by a set of SMARTS, as described shortly further below. \n",
    "As the default set of accepted elements in a organic molecule Hydrogen, Carbon, Nitrogen, Oxygen, Fluorine, Phosphorus, Sulfur, Chlorine, Selenium, Bromine, Iodine (nonmetals and halogenes) were chosen. <br>\n",
    "*While Astatine and Tennessine are also considered halogenes, they are not included due to their radioactivity and rarity.*\n",
    "<br>\n",
    "\n",
    "\n",
    "###### An example on how a custom set can be setup and how it can be used \n",
    "-----------------------------------------------------------------------------------------------------------\n",
    "Defining a set:<br>\n",
    "`elements = Chem.MolFromSmarts(\"[!#1&!#6&!#7&!#8&!#9&!#15&!#16&!#17&!#35&!#53]\")`\n",
    "\n",
    "Pass the set as a parameter, where the `detect_inorganic` function is getting called:<br>\n",
    "`lambda row: detect_inorganics.detect_inorganic(row.mol, elements)`"
   ]
  },
  {
   "cell_type": "code",
   "execution_count": 9,
   "metadata": {},
   "outputs": [],
   "source": [
    "# Setting up the task_number\n",
    "task_number = 3\n",
    "\n",
    "\n",
    "# Check for inorganic structures\n",
    "dataset[\"Inorganics\"] = dataset.apply(\n",
    "    lambda row: detect_inorganics.detect_inorganic(row.mol)\n",
    "    if row.Failed_at == 0\n",
    "    else None,\n",
    "    axis=1,\n",
    ")\n",
    "\n",
    "# Add task_number to failed entries\n",
    "dataset.loc[dataset[\"Inorganics\"] == True, [\"Failed_at\"]] = task_number"
   ]
  },
  {
   "cell_type": "markdown",
   "metadata": {},
   "source": [
    "Below you can see all entries, that contain other than our allowed elements.(Hydrogen, Carbon, Nitrogen, Oxygen, Fluorine, Phosphorus, Sulfur, Chlorine, Selenium, Bromine, Iodine)"
   ]
  },
  {
   "cell_type": "code",
   "execution_count": 10,
   "metadata": {},
   "outputs": [
    {
     "data": {
      "text/html": [
       "<div>\n",
       "<style scoped>\n",
       "    .dataframe tbody tr th:only-of-type {\n",
       "        vertical-align: middle;\n",
       "    }\n",
       "\n",
       "    .dataframe tbody tr th {\n",
       "        vertical-align: top;\n",
       "    }\n",
       "\n",
       "    .dataframe thead th {\n",
       "        text-align: right;\n",
       "    }\n",
       "</style>\n",
       "<table border=\"1\" class=\"dataframe\">\n",
       "  <thead>\n",
       "    <tr style=\"text-align: right;\">\n",
       "      <th></th>\n",
       "      <th>IDs</th>\n",
       "      <th>Names</th>\n",
       "      <th>SMILEs</th>\n",
       "      <th>Failed_at</th>\n",
       "      <th>mol</th>\n",
       "      <th>Carbon_present</th>\n",
       "      <th>Inorganics</th>\n",
       "    </tr>\n",
       "  </thead>\n",
       "  <tbody>\n",
       "    <tr>\n",
       "      <th>0</th>\n",
       "      <td>1</td>\n",
       "      <td>(R)-Roscovitine</td>\n",
       "      <td>CCC(CO)Nc1nc(NCc2ccccc2)c2ncn(C(C)C)c2n1.[Ca]</td>\n",
       "      <td>3</td>\n",
       "      <td>&lt;rdkit.Chem.rdchem.Mol object at 0x7fb0b40fe8a0&gt;</td>\n",
       "      <td>True</td>\n",
       "      <td>True</td>\n",
       "    </tr>\n",
       "    <tr>\n",
       "      <th>114</th>\n",
       "      <td>115</td>\n",
       "      <td>Bortezomib</td>\n",
       "      <td>CC(C)CC(NC(=O)C(Cc1ccccc1)NC(=O)c1cnccn1)B(O)O</td>\n",
       "      <td>3</td>\n",
       "      <td>&lt;rdkit.Chem.rdchem.Mol object at 0x7fb0b407ac10&gt;</td>\n",
       "      <td>True</td>\n",
       "      <td>True</td>\n",
       "    </tr>\n",
       "    <tr>\n",
       "      <th>200</th>\n",
       "      <td>201</td>\n",
       "      <td>zirconium</td>\n",
       "      <td>CCO[Zr](OCC)(OCC)OCC</td>\n",
       "      <td>3</td>\n",
       "      <td>&lt;rdkit.Chem.rdchem.Mol object at 0x7fb0b407f6c0&gt;</td>\n",
       "      <td>True</td>\n",
       "      <td>True</td>\n",
       "    </tr>\n",
       "    <tr>\n",
       "      <th>201</th>\n",
       "      <td>202</td>\n",
       "      <td>hemoglobin</td>\n",
       "      <td>CC1=C(C2=CC3=NC(=CC4=C(C(=C([N-]4)C=C5C(=C(C(=...</td>\n",
       "      <td>3</td>\n",
       "      <td>&lt;rdkit.Chem.rdchem.Mol object at 0x7fb0b407f710&gt;</td>\n",
       "      <td>True</td>\n",
       "      <td>True</td>\n",
       "    </tr>\n",
       "  </tbody>\n",
       "</table>\n",
       "</div>"
      ],
      "text/plain": [
       "     IDs            Names                                             SMILEs  \\\n",
       "0      1  (R)-Roscovitine      CCC(CO)Nc1nc(NCc2ccccc2)c2ncn(C(C)C)c2n1.[Ca]   \n",
       "114  115       Bortezomib     CC(C)CC(NC(=O)C(Cc1ccccc1)NC(=O)c1cnccn1)B(O)O   \n",
       "200  201        zirconium                               CCO[Zr](OCC)(OCC)OCC   \n",
       "201  202       hemoglobin  CC1=C(C2=CC3=NC(=CC4=C(C(=C([N-]4)C=C5C(=C(C(=...   \n",
       "\n",
       "     Failed_at                                               mol  \\\n",
       "0            3  <rdkit.Chem.rdchem.Mol object at 0x7fb0b40fe8a0>   \n",
       "114          3  <rdkit.Chem.rdchem.Mol object at 0x7fb0b407ac10>   \n",
       "200          3  <rdkit.Chem.rdchem.Mol object at 0x7fb0b407f6c0>   \n",
       "201          3  <rdkit.Chem.rdchem.Mol object at 0x7fb0b407f710>   \n",
       "\n",
       "    Carbon_present Inorganics  \n",
       "0             True       True  \n",
       "114           True       True  \n",
       "200           True       True  \n",
       "201           True       True  "
      ]
     },
     "execution_count": 10,
     "metadata": {},
     "output_type": "execute_result"
    }
   ],
   "source": [
    "dataset[dataset[\"Failed_at\"] == 3]"
   ]
  },
  {
   "cell_type": "markdown",
   "metadata": {},
   "source": [
    "#### Task 4: Filter entries containing mixtures\n",
    "\n",
    "Since mixtures appear in encoding formats, like SMILES strings, where various molecules can be stored in one entry, but many applications can not handle mixtures as descriptors, they also need to be filtered out.\n",
    "Some mixtures can be used, when it can be clearly identified, that the recored activity originates from them and common fragments, without bioactivity are known, but prior to any action on the entries with mixtures, those have to be identified.\n",
    "This will be archived with the function `detect_mixtures` as shown below."
   ]
  },
  {
   "cell_type": "code",
   "execution_count": 11,
   "metadata": {},
   "outputs": [],
   "source": [
    "# Setting up the task_number\n",
    "task_number = 4\n",
    "\n",
    "# Check for inorganic structures\n",
    "dataset[\"mixture\"] = dataset.apply(\n",
    "    lambda row: detect_mixtures(row.mol) if row.Failed_at == 0 else None,\n",
    "    axis=1,\n",
    ")\n",
    "\n",
    "# Add task_number to failed entries\n",
    "dataset.loc[dataset[\"mixture\"] == True, [\"Failed_at\"]] = task_number"
   ]
  },
  {
   "cell_type": "markdown",
   "metadata": {},
   "source": [
    "Below you can see all entries, that are mixtures."
   ]
  },
  {
   "cell_type": "code",
   "execution_count": 12,
   "metadata": {},
   "outputs": [
    {
     "data": {
      "text/html": [
       "<div>\n",
       "<style scoped>\n",
       "    .dataframe tbody tr th:only-of-type {\n",
       "        vertical-align: middle;\n",
       "    }\n",
       "\n",
       "    .dataframe tbody tr th {\n",
       "        vertical-align: top;\n",
       "    }\n",
       "\n",
       "    .dataframe thead th {\n",
       "        text-align: right;\n",
       "    }\n",
       "</style>\n",
       "<table border=\"1\" class=\"dataframe\">\n",
       "  <thead>\n",
       "    <tr style=\"text-align: right;\">\n",
       "      <th></th>\n",
       "      <th>IDs</th>\n",
       "      <th>Names</th>\n",
       "      <th>SMILEs</th>\n",
       "      <th>Failed_at</th>\n",
       "      <th>mol</th>\n",
       "      <th>Carbon_present</th>\n",
       "      <th>Inorganics</th>\n",
       "      <th>mixture</th>\n",
       "    </tr>\n",
       "  </thead>\n",
       "  <tbody>\n",
       "    <tr>\n",
       "      <th>5</th>\n",
       "      <td>6</td>\n",
       "      <td>2-Deoxy-D-glucose</td>\n",
       "      <td>OCC1OC(O)CC(O)C1O.O1CCOCC1</td>\n",
       "      <td>4</td>\n",
       "      <td>&lt;rdkit.Chem.rdchem.Mol object at 0x7fb0b410e080&gt;</td>\n",
       "      <td>True</td>\n",
       "      <td>False</td>\n",
       "      <td>True</td>\n",
       "    </tr>\n",
       "  </tbody>\n",
       "</table>\n",
       "</div>"
      ],
      "text/plain": [
       "   IDs              Names                      SMILEs  Failed_at  \\\n",
       "5    6  2-Deoxy-D-glucose  OCC1OC(O)CC(O)C1O.O1CCOCC1          4   \n",
       "\n",
       "                                                mol Carbon_present Inorganics  \\\n",
       "5  <rdkit.Chem.rdchem.Mol object at 0x7fb0b410e080>           True      False   \n",
       "\n",
       "  mixture  \n",
       "5    True  "
      ]
     },
     "execution_count": 12,
     "metadata": {},
     "output_type": "execute_result"
    }
   ],
   "source": [
    "dataset[dataset[\"Failed_at\"] == 4]"
   ]
  },
  {
   "cell_type": "markdown",
   "metadata": {},
   "source": [
    "#### Task 5: Filter entries containing metals"
   ]
  },
  {
   "cell_type": "code",
   "execution_count": 18,
   "metadata": {},
   "outputs": [],
   "source": [
    "# Setting up the task_number\n",
    "task_number = 5\n",
    "\n",
    "# Check for metals\n",
    "dataset[\"metals\"] = dataset.apply(\n",
    "    lambda row: detect_metals(row.mol) if row.Failed_at == 0 else None,\n",
    "    axis=1,\n",
    ")\n",
    "\n",
    "# Add task_number to failed entries\n",
    "dataset.loc[dataset[\"mixture\"] == True, [\"Failed_at\"]] = task_number"
   ]
  },
  {
   "cell_type": "markdown",
   "metadata": {},
   "source": [
    "Below you can see all entries, containing metals"
   ]
  },
  {
   "cell_type": "code",
   "execution_count": 20,
   "metadata": {},
   "outputs": [
    {
     "data": {
      "text/html": [
       "<div>\n",
       "<style scoped>\n",
       "    .dataframe tbody tr th:only-of-type {\n",
       "        vertical-align: middle;\n",
       "    }\n",
       "\n",
       "    .dataframe tbody tr th {\n",
       "        vertical-align: top;\n",
       "    }\n",
       "\n",
       "    .dataframe thead th {\n",
       "        text-align: right;\n",
       "    }\n",
       "</style>\n",
       "<table border=\"1\" class=\"dataframe\">\n",
       "  <thead>\n",
       "    <tr style=\"text-align: right;\">\n",
       "      <th></th>\n",
       "      <th>IDs</th>\n",
       "      <th>Names</th>\n",
       "      <th>SMILEs</th>\n",
       "      <th>Failed_at</th>\n",
       "      <th>mol</th>\n",
       "      <th>Carbon_present</th>\n",
       "      <th>Inorganics</th>\n",
       "      <th>mixture</th>\n",
       "      <th>metals</th>\n",
       "    </tr>\n",
       "  </thead>\n",
       "  <tbody>\n",
       "  </tbody>\n",
       "</table>\n",
       "</div>"
      ],
      "text/plain": [
       "Empty DataFrame\n",
       "Columns: [IDs, Names, SMILEs, Failed_at, mol, Carbon_present, Inorganics, mixture, metals]\n",
       "Index: []"
      ]
     },
     "execution_count": 20,
     "metadata": {},
     "output_type": "execute_result"
    }
   ],
   "source": [
    "dataset[dataset[\"Failed_at\"] == 4]"
   ]
  },
  {
   "cell_type": "markdown",
   "metadata": {},
   "source": [
    "### Step 3: Structural Conversion and Cleaning\n",
    "--------------------------------------------------\n",
    "\n",
    "Some drugs need to be transformed \"into their salt form to enhance how the drug disscolves (...) and (to) increase it's effectiveness. (https://www.drugs.com/article/pharmaceutical-salts.html (03/12/21)) Therefore it is common for chemical compound databases to contain records of salts. If possible it is recommended to delete the records containing salts completely, since, similar to in-organic compounds, \"most descriptor-generating software (can not process salts)\" (Fourches 2010 Chapter 2.2 ).While not being desirable, it is still an acceptable procedure to convert compounds into their neutral forms. But cases like this should be tagged, filtered and afterwards manually curated or compared to the actual neutral form of that compound. \n",
    "In case that we want to continue working on the converted records, we should perform the following steps:\n",
    "- check if records contain compounds with presence of metals --> difficult case, filter out (already done this - one step ahead)\n",
    "- removing the salts from the record\n",
    "- neutralize the record (normalization or basic standardization)\n",
    "- neutralize the charges\n",
    "- to be discussed: the adding/removing of hydrogens, both got pros and cons (pro addingH --> higher prediction performances / con addingH --> may introduce noise --> less reliable models)(removingH might introduce erros in calculating descriptors, due to it might not handle certain cases well)\n",
    "\n"
   ]
  },
  {
   "cell_type": "code",
   "execution_count": null,
   "metadata": {},
   "outputs": [],
   "source": [
    "# Structural coversion\n",
    "# Cleaning/removal of salts\n",
    "# Functions remove_salts\n",
    "# normalize_molecules\n",
    "# handle_charges\n",
    "# handle_hydrogens"
   ]
  },
  {
   "cell_type": "markdown",
   "metadata": {},
   "source": [
    "#### Task 6: Removing salts "
   ]
  },
  {
   "cell_type": "code",
   "execution_count": null,
   "metadata": {},
   "outputs": [],
   "source": [
    "# Setting up the task_number\n",
    "task_number = 6\n",
    "# getting the valid entries from the step before\n",
    "dataset = result1  # Load results 1 here, to see the functionality, 'cause all entries containing salts, have already been filtered by prior steps.\n",
    "\n",
    "# Create Smiles for evaluation\n",
    "dataset[\"smiles_before\"] = dataset[\"mol\"].apply(convert_format.convert_mol_to_smiles)\n",
    "\n",
    "# Perform disconnect_metals on entries\n",
    "dataset[\"mol\"] = dataset[\"mol\"].map(remove_salts)\n",
    "\n",
    "# Create new SMILEs from the current state for evaluation of performed changes\n",
    "dataset[\"Smiles 5\"] = dataset[\"mol\"].apply(convert_format.convert_mol_to_smiles)\n",
    "dataset[\"no_removed_salt\"] = dataset[\"smiles_before\"] == dataset[\"Smiles 5\"]\n",
    "\n",
    "# Filter the changed entries\n",
    "changed_at_step_6 = dataset[dataset[\"no_removed_salt\"] == False]\n",
    "changed_at_step_6[\"Changed_at\"] = changed_at_step_6[\"Failed_at\"].apply(\n",
    "    lambda x, task_number=task_number: task_number\n",
    ")\n",
    "changed_at_step_6 = changed_at_step_6[[\"IDs\", \"Names\", \"SMILEs\", \"Changed_at\", \"mol\"]]\n",
    "\n",
    "dataset[\"Changed_at\"] = dataset[dataset[\"no_removed_salt\"] == False][\"Failed_at\"].apply(\n",
    "    lambda x, task_number=task_number: task_number\n",
    ")\n",
    "dataset.head(20)\n",
    "\n",
    "# dataset['removed_salts'] = RemoveSaltsFromFrame(dataset,molCol='mol')\n",
    "# where_salt = dataset[dataset['removed_salts'].notna()]"
   ]
  },
  {
   "cell_type": "code",
   "execution_count": null,
   "metadata": {},
   "outputs": [],
   "source": [
    "# Show the subset of all changed entries (salts were removed)\n",
    "changed_at_step_6.head()"
   ]
  },
  {
   "cell_type": "markdown",
   "metadata": {},
   "source": [
    "#### Task 7: Normalize molecules"
   ]
  },
  {
   "cell_type": "code",
   "execution_count": null,
   "metadata": {},
   "outputs": [],
   "source": [
    "# TODO: Finish all steps here\n",
    "\n",
    "# Setting up the task_number\n",
    "task_number = 7\n",
    "# getting the valid entries from the step before\n",
    "dataset = result1\n",
    "# dataset.head(100)\n",
    "dataset[\"normalized\"] = dataset[\"mol\"].apply(normalize)\n",
    "result7 = dataset\n",
    "result7.head()"
   ]
  },
  {
   "cell_type": "markdown",
   "metadata": {},
   "source": [
    "#### Task 8: Charges and Hydrogens TODO"
   ]
  },
  {
   "cell_type": "code",
   "execution_count": null,
   "metadata": {},
   "outputs": [],
   "source": [
    "# TODO: Add the functionlaity here"
   ]
  },
  {
   "cell_type": "markdown",
   "metadata": {},
   "source": [
    "### Normalization of Specific Chemotypes\n",
    "\n",
    "More complex than just Normalization."
   ]
  },
  {
   "cell_type": "code",
   "execution_count": null,
   "metadata": {},
   "outputs": [],
   "source": [
    "# TODO: Finish all steps here\n",
    "\n",
    "# Normalization of specific chemotypes\n",
    "# normalize_molecules"
   ]
  },
  {
   "cell_type": "code",
   "execution_count": null,
   "metadata": {},
   "outputs": [],
   "source": [
    "# TODO: Finish all steps here\n",
    "\n",
    "# Treatment of tautomeric forms\n",
    "# handle_tautomers"
   ]
  },
  {
   "cell_type": "markdown",
   "metadata": {},
   "source": [
    "#### Task 9: Generate a canonicalized tautomer on SMILEs entries"
   ]
  },
  {
   "cell_type": "code",
   "execution_count": null,
   "metadata": {},
   "outputs": [],
   "source": [
    "# TODO: Finish all steps here\n",
    "\n",
    "# Setting up the task_number\n",
    "task_number = 9\n",
    "\n",
    "dataset = result7\n",
    "\n",
    "# Find all duplicate occurences in SMILEs\n",
    "dataset[\"canonicalized tautomer\"] = dataset[\"SMILEs\"].apply(\n",
    "    handle_tautomers.canonicalize_tautomer\n",
    ")\n",
    "dataset.head()"
   ]
  },
  {
   "cell_type": "code",
   "execution_count": null,
   "metadata": {},
   "outputs": [],
   "source": [
    "dataset.tail()"
   ]
  },
  {
   "cell_type": "markdown",
   "metadata": {},
   "source": [
    "### Removal of duplicates"
   ]
  },
  {
   "cell_type": "code",
   "execution_count": null,
   "metadata": {},
   "outputs": [],
   "source": [
    "# TODO: Fine tune the output\n",
    "\n",
    "# Analysis/removal of duplicates\n",
    "\n",
    "# Setting up the task_number\n",
    "task_number = 10\n",
    "\n",
    "dataset = result7\n",
    "\n",
    "# Find all duplicate occurences in SMILEs\n",
    "dataset[\"duplicate?\"] = dataset.duplicated(subset=[\"SMILEs\"])\n",
    "\n",
    "# Filter the duplicates out\n",
    "failed_step_10 = dataset[dataset[\"duplicate?\"] == True]\n",
    "failed_step_10[\"Failed_at\"] = failed_step_10[\"Failed_at\"].apply(\n",
    "    lambda x, task_number=task_number: task_number\n",
    ")\n",
    "\n",
    "dataset = dataset[dataset[\"duplicate?\"] == False]\n",
    "failed_step_10.tail()"
   ]
  },
  {
   "cell_type": "code",
   "execution_count": null,
   "metadata": {},
   "outputs": [],
   "source": [
    "# Manual inspection\n",
    "\n",
    "# TODO: Create csv-exports for better readability of the subsets or jupyter notebook searchable tables"
   ]
  },
  {
   "cell_type": "code",
   "execution_count": null,
   "metadata": {},
   "outputs": [],
   "source": [
    "# Contatination of results for the end\n",
    "test = pd.concat([failed_step_1, failed_step_2])\n",
    "test = test.sort_values(by=[\"IDs\"])"
   ]
  },
  {
   "cell_type": "code",
   "execution_count": null,
   "metadata": {},
   "outputs": [],
   "source": [
    "test"
   ]
  }
 ],
 "metadata": {
  "kernelspec": {
   "display_name": "Python 3",
   "language": "python",
   "name": "python3"
  },
  "language_info": {
   "codemirror_mode": {
    "name": "ipython",
    "version": 3
   },
   "file_extension": ".py",
   "mimetype": "text/x-python",
   "name": "python",
   "nbconvert_exporter": "python",
   "pygments_lexer": "ipython3",
   "version": "3.8.6"
  }
 },
 "nbformat": 4,
 "nbformat_minor": 4
}
