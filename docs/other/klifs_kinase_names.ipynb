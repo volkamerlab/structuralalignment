{
 "cells": [
  {
   "cell_type": "markdown",
   "metadata": {},
   "source": [
    "# KLIFS kinase names\n",
    "\n",
    "Explore different kinase name columns."
   ]
  },
  {
   "cell_type": "code",
   "execution_count": null,
   "metadata": {},
   "outputs": [],
   "source": [
    "%load_ext autoreload\n",
    "%autoreload 2"
   ]
  },
  {
   "cell_type": "code",
   "execution_count": 2,
   "metadata": {},
   "outputs": [
    {
     "name": "stderr",
     "output_type": "stream",
     "text": [
      "INFO:opencadd.databases.klifs.api:If you want to see an non-truncated version of the DataFrames in this module, use `pd.set_option('display.max_columns', 50)` in your notebook.\n"
     ]
    }
   ],
   "source": [
    "import pandas as pd\n",
    "\n",
    "from opencadd.databases.klifs import setup_remote, setup_local"
   ]
  },
  {
   "cell_type": "code",
   "execution_count": 3,
   "metadata": {},
   "outputs": [],
   "source": [
    "pd.set_option('display.max_columns', 50)"
   ]
  },
  {
   "cell_type": "code",
   "execution_count": 4,
   "metadata": {},
   "outputs": [
    {
     "name": "stderr",
     "output_type": "stream",
     "text": [
      "INFO:opencadd.databases.klifs.api:Set up remote session...\n",
      "INFO:opencadd.databases.klifs.api:Remote session is ready!\n"
     ]
    }
   ],
   "source": [
    "remote = setup_remote()"
   ]
  },
  {
   "cell_type": "markdown",
   "metadata": {},
   "source": [
    "## Get kinase details 1 (kinase names)\n",
    "\n",
    "**KLIFS Swagger: Information/get_kinase_names**"
   ]
  },
  {
   "cell_type": "code",
   "execution_count": 5,
   "metadata": {},
   "outputs": [
    {
     "data": {
      "text/html": [
       "<div>\n",
       "<style scoped>\n",
       "    .dataframe tbody tr th:only-of-type {\n",
       "        vertical-align: middle;\n",
       "    }\n",
       "\n",
       "    .dataframe tbody tr th {\n",
       "        vertical-align: top;\n",
       "    }\n",
       "\n",
       "    .dataframe thead th {\n",
       "        text-align: right;\n",
       "    }\n",
       "</style>\n",
       "<table border=\"1\" class=\"dataframe\">\n",
       "  <thead>\n",
       "    <tr style=\"text-align: right;\">\n",
       "      <th></th>\n",
       "      <th>kinase.klifs_id</th>\n",
       "      <th>kinase.klifs_name</th>\n",
       "      <th>kinase.full_name</th>\n",
       "      <th>kinase.gene_name</th>\n",
       "      <th>kinase.uniprot</th>\n",
       "      <th>species.klifs</th>\n",
       "    </tr>\n",
       "  </thead>\n",
       "  <tbody>\n",
       "    <tr>\n",
       "      <th>0</th>\n",
       "      <td>1</td>\n",
       "      <td>AKT1</td>\n",
       "      <td>v-akt murine thymoma viral oncogene homolog 1</td>\n",
       "      <td>AKT1</td>\n",
       "      <td>None</td>\n",
       "      <td>Human</td>\n",
       "    </tr>\n",
       "    <tr>\n",
       "      <th>1</th>\n",
       "      <td>2</td>\n",
       "      <td>AKT2</td>\n",
       "      <td>v-akt murine thymoma viral oncogene homolog 2</td>\n",
       "      <td>AKT2</td>\n",
       "      <td>None</td>\n",
       "      <td>Human</td>\n",
       "    </tr>\n",
       "    <tr>\n",
       "      <th>2</th>\n",
       "      <td>3</td>\n",
       "      <td>AKT3</td>\n",
       "      <td>v-akt murine thymoma viral oncogene homolog 3</td>\n",
       "      <td>AKT3</td>\n",
       "      <td>None</td>\n",
       "      <td>Human</td>\n",
       "    </tr>\n",
       "    <tr>\n",
       "      <th>3</th>\n",
       "      <td>4</td>\n",
       "      <td>CRIK</td>\n",
       "      <td>citron rho-interacting serine/threonine kinase</td>\n",
       "      <td>CIT</td>\n",
       "      <td>None</td>\n",
       "      <td>Human</td>\n",
       "    </tr>\n",
       "    <tr>\n",
       "      <th>4</th>\n",
       "      <td>5</td>\n",
       "      <td>DMPK1</td>\n",
       "      <td>dystrophia myotonica protein kinase</td>\n",
       "      <td>DMPK</td>\n",
       "      <td>None</td>\n",
       "      <td>Human</td>\n",
       "    </tr>\n",
       "  </tbody>\n",
       "</table>\n",
       "</div>"
      ],
      "text/plain": [
       "   kinase.klifs_id kinase.klifs_name  \\\n",
       "0                1              AKT1   \n",
       "1                2              AKT2   \n",
       "2                3              AKT3   \n",
       "3                4              CRIK   \n",
       "4                5             DMPK1   \n",
       "\n",
       "                                 kinase.full_name kinase.gene_name  \\\n",
       "0   v-akt murine thymoma viral oncogene homolog 1             AKT1   \n",
       "1   v-akt murine thymoma viral oncogene homolog 2             AKT2   \n",
       "2   v-akt murine thymoma viral oncogene homolog 3             AKT3   \n",
       "3  citron rho-interacting serine/threonine kinase              CIT   \n",
       "4             dystrophia myotonica protein kinase             DMPK   \n",
       "\n",
       "  kinase.uniprot species.klifs  \n",
       "0           None         Human  \n",
       "1           None         Human  \n",
       "2           None         Human  \n",
       "3           None         Human  \n",
       "4           None         Human  "
      ]
     },
     "execution_count": 5,
     "metadata": {},
     "output_type": "execute_result"
    }
   ],
   "source": [
    "kinases1 = remote.kinases.all_kinases()\n",
    "kinases1.sort_values(\"kinase.klifs_id\", inplace=True)\n",
    "kinases1.reset_index(drop=True, inplace=True)\n",
    "kinases1.head()"
   ]
  },
  {
   "cell_type": "markdown",
   "metadata": {},
   "source": [
    "## Get kinase details 2 (kinase information)\n",
    "\n",
    "**KLIFS Swagger: Information/get_kinase_information**"
   ]
  },
  {
   "cell_type": "code",
   "execution_count": 6,
   "metadata": {},
   "outputs": [
    {
     "name": "stdout",
     "output_type": "stream",
     "text": [
      "Number of IDs: 1127\n"
     ]
    }
   ],
   "source": [
    "kinase_ids = kinases1[\"kinase.klifs_id\"].to_list()\n",
    "print(f\"Number of IDs: {len(kinase_ids)}\")"
   ]
  },
  {
   "cell_type": "code",
   "execution_count": 7,
   "metadata": {},
   "outputs": [
    {
     "name": "stdout",
     "output_type": "stream",
     "text": [
      "Number of kinases: 1127\n"
     ]
    },
    {
     "data": {
      "text/html": [
       "<div>\n",
       "<style scoped>\n",
       "    .dataframe tbody tr th:only-of-type {\n",
       "        vertical-align: middle;\n",
       "    }\n",
       "\n",
       "    .dataframe tbody tr th {\n",
       "        vertical-align: top;\n",
       "    }\n",
       "\n",
       "    .dataframe thead th {\n",
       "        text-align: right;\n",
       "    }\n",
       "</style>\n",
       "<table border=\"1\" class=\"dataframe\">\n",
       "  <thead>\n",
       "    <tr style=\"text-align: right;\">\n",
       "      <th></th>\n",
       "      <th>kinase.klifs_id</th>\n",
       "      <th>kinase.klifs_name</th>\n",
       "      <th>kinase.full_name</th>\n",
       "      <th>kinase.gene_name</th>\n",
       "      <th>kinase.family</th>\n",
       "      <th>kinase.group</th>\n",
       "      <th>kinase.class</th>\n",
       "      <th>species.klifs</th>\n",
       "      <th>kinase.uniprot</th>\n",
       "      <th>kinase.iuphar</th>\n",
       "      <th>kinase.pocket</th>\n",
       "    </tr>\n",
       "  </thead>\n",
       "  <tbody>\n",
       "    <tr>\n",
       "      <th>0</th>\n",
       "      <td>1</td>\n",
       "      <td>AKT1</td>\n",
       "      <td>v-akt murine thymoma viral oncogene homolog 1</td>\n",
       "      <td>AKT1</td>\n",
       "      <td>Akt</td>\n",
       "      <td>AGC</td>\n",
       "      <td></td>\n",
       "      <td>Human</td>\n",
       "      <td>P31749</td>\n",
       "      <td>1479</td>\n",
       "      <td>KLLGKGTFGKVILYAMKILHTLTENRVLQNSRPFLTALKYSCFVME...</td>\n",
       "    </tr>\n",
       "    <tr>\n",
       "      <th>1</th>\n",
       "      <td>2</td>\n",
       "      <td>AKT2</td>\n",
       "      <td>v-akt murine thymoma viral oncogene homolog 2</td>\n",
       "      <td>AKT2</td>\n",
       "      <td>Akt</td>\n",
       "      <td>AGC</td>\n",
       "      <td></td>\n",
       "      <td>Human</td>\n",
       "      <td>P31751</td>\n",
       "      <td>1480</td>\n",
       "      <td>KLLGKGTFGKVILYAMKILHTVTESRVLQNTRPFLTALKYACFVME...</td>\n",
       "    </tr>\n",
       "    <tr>\n",
       "      <th>2</th>\n",
       "      <td>3</td>\n",
       "      <td>AKT3</td>\n",
       "      <td>v-akt murine thymoma viral oncogene homolog 3</td>\n",
       "      <td>AKT3</td>\n",
       "      <td>Akt</td>\n",
       "      <td>AGC</td>\n",
       "      <td></td>\n",
       "      <td>Human</td>\n",
       "      <td>Q9Y243</td>\n",
       "      <td>2286</td>\n",
       "      <td>KLLGKGTFGKVILYAMKILHTLTESRVLKNTRPFLTSLKYSCFVME...</td>\n",
       "    </tr>\n",
       "    <tr>\n",
       "      <th>3</th>\n",
       "      <td>4</td>\n",
       "      <td>CRIK</td>\n",
       "      <td>citron rho-interacting serine/threonine kinase</td>\n",
       "      <td>CIT</td>\n",
       "      <td>DMPK</td>\n",
       "      <td>AGC</td>\n",
       "      <td>CRIK</td>\n",
       "      <td>Human</td>\n",
       "      <td>O14578</td>\n",
       "      <td>1509</td>\n",
       "      <td>SLVGCGHFAEVQVYAMKVMFFEEERNILSRSTPWIPQLQYAYLVME...</td>\n",
       "    </tr>\n",
       "    <tr>\n",
       "      <th>4</th>\n",
       "      <td>5</td>\n",
       "      <td>DMPK1</td>\n",
       "      <td>dystrophia myotonica protein kinase</td>\n",
       "      <td>DMPK</td>\n",
       "      <td>DMPK</td>\n",
       "      <td>AGC</td>\n",
       "      <td>GEK</td>\n",
       "      <td>Human</td>\n",
       "      <td>Q09013</td>\n",
       "      <td>1505</td>\n",
       "      <td>KVIGRGAFSEVAVYAMKIMCFREERDVLVNGDRWITQLHFAYLVME...</td>\n",
       "    </tr>\n",
       "  </tbody>\n",
       "</table>\n",
       "</div>"
      ],
      "text/plain": [
       "   kinase.klifs_id kinase.klifs_name  \\\n",
       "0                1              AKT1   \n",
       "1                2              AKT2   \n",
       "2                3              AKT3   \n",
       "3                4              CRIK   \n",
       "4                5             DMPK1   \n",
       "\n",
       "                                 kinase.full_name kinase.gene_name  \\\n",
       "0   v-akt murine thymoma viral oncogene homolog 1             AKT1   \n",
       "1   v-akt murine thymoma viral oncogene homolog 2             AKT2   \n",
       "2   v-akt murine thymoma viral oncogene homolog 3             AKT3   \n",
       "3  citron rho-interacting serine/threonine kinase              CIT   \n",
       "4             dystrophia myotonica protein kinase             DMPK   \n",
       "\n",
       "  kinase.family kinase.group kinase.class species.klifs kinase.uniprot  \\\n",
       "0           Akt          AGC                      Human         P31749   \n",
       "1           Akt          AGC                      Human         P31751   \n",
       "2           Akt          AGC                      Human         Q9Y243   \n",
       "3          DMPK          AGC         CRIK         Human         O14578   \n",
       "4          DMPK          AGC          GEK         Human         Q09013   \n",
       "\n",
       "   kinase.iuphar                                      kinase.pocket  \n",
       "0           1479  KLLGKGTFGKVILYAMKILHTLTENRVLQNSRPFLTALKYSCFVME...  \n",
       "1           1480  KLLGKGTFGKVILYAMKILHTVTESRVLQNTRPFLTALKYACFVME...  \n",
       "2           2286  KLLGKGTFGKVILYAMKILHTLTESRVLKNTRPFLTSLKYSCFVME...  \n",
       "3           1509  SLVGCGHFAEVQVYAMKVMFFEEERNILSRSTPWIPQLQYAYLVME...  \n",
       "4           1505  KVIGRGAFSEVAVYAMKIMCFREERDVLVNGDRWITQLHFAYLVME...  "
      ]
     },
     "execution_count": 7,
     "metadata": {},
     "output_type": "execute_result"
    }
   ],
   "source": [
    "kinases2 = remote.kinases.by_kinase_klifs_id(kinase_ids)\n",
    "print(f\"Number of kinases: {kinases2.shape[0]}\")\n",
    "kinases2.sort_values(\"kinase.klifs_id\", inplace=True)\n",
    "kinases2.reset_index(drop=True, inplace=True)\n",
    "kinases2.head()"
   ]
  },
  {
   "cell_type": "markdown",
   "metadata": {},
   "source": [
    "## **Questions** regarding kinases 1 or kinases 2"
   ]
  },
  {
   "cell_type": "markdown",
   "metadata": {},
   "source": [
    "### How many kinases have ambiguous kinase names (`klifs_name` != `gene_name`)?"
   ]
  },
  {
   "cell_type": "code",
   "execution_count": 8,
   "metadata": {},
   "outputs": [
    {
     "data": {
      "text/plain": [
       "(817, 6)"
      ]
     },
     "execution_count": 8,
     "metadata": {},
     "output_type": "execute_result"
    }
   ],
   "source": [
    "kinases1[kinases1.apply(lambda x: x[\"kinase.klifs_name\"] != x[\"kinase.gene_name\"], axis=1)].shape"
   ]
  },
  {
   "cell_type": "code",
   "execution_count": 9,
   "metadata": {},
   "outputs": [
    {
     "data": {
      "text/plain": [
       "(817, 11)"
      ]
     },
     "execution_count": 9,
     "metadata": {},
     "output_type": "execute_result"
    }
   ],
   "source": [
    "kinases2[kinases2.apply(lambda x: x[\"kinase.klifs_name\"] != x[\"kinase.gene_name\"], axis=1)].shape"
   ]
  },
  {
   "cell_type": "markdown",
   "metadata": {},
   "source": [
    "### Which columns are matched for kinase name?"
   ]
  },
  {
   "cell_type": "code",
   "execution_count": 10,
   "metadata": {},
   "outputs": [
    {
     "data": {
      "application/vnd.jupyter.widget-view+json": {
       "model_id": "8bc8a026d8d2477b9f84c9c34b665fb9",
       "version_major": 2,
       "version_minor": 0
      },
      "text/plain": [
       "HBox(children=(HTML(value='Processing...'), FloatProgress(value=0.0, max=1.0), HTML(value='')))"
      ]
     },
     "metadata": {},
     "output_type": "display_data"
    },
    {
     "name": "stdout",
     "output_type": "stream",
     "text": [
      "\n"
     ]
    },
    {
     "data": {
      "text/html": [
       "<div>\n",
       "<style scoped>\n",
       "    .dataframe tbody tr th:only-of-type {\n",
       "        vertical-align: middle;\n",
       "    }\n",
       "\n",
       "    .dataframe tbody tr th {\n",
       "        vertical-align: top;\n",
       "    }\n",
       "\n",
       "    .dataframe thead th {\n",
       "        text-align: right;\n",
       "    }\n",
       "</style>\n",
       "<table border=\"1\" class=\"dataframe\">\n",
       "  <thead>\n",
       "    <tr style=\"text-align: right;\">\n",
       "      <th></th>\n",
       "      <th>kinase.klifs_id</th>\n",
       "      <th>kinase.klifs_name</th>\n",
       "      <th>kinase.full_name</th>\n",
       "      <th>kinase.gene_name</th>\n",
       "      <th>kinase.family</th>\n",
       "      <th>kinase.group</th>\n",
       "      <th>kinase.class</th>\n",
       "      <th>species.klifs</th>\n",
       "      <th>kinase.uniprot</th>\n",
       "      <th>kinase.iuphar</th>\n",
       "      <th>kinase.pocket</th>\n",
       "    </tr>\n",
       "  </thead>\n",
       "  <tbody>\n",
       "    <tr>\n",
       "      <th>0</th>\n",
       "      <td>4</td>\n",
       "      <td>CRIK</td>\n",
       "      <td>citron rho-interacting serine/threonine kinase</td>\n",
       "      <td>CIT</td>\n",
       "      <td>DMPK</td>\n",
       "      <td>AGC</td>\n",
       "      <td>CRIK</td>\n",
       "      <td>Human</td>\n",
       "      <td>O14578</td>\n",
       "      <td>1509</td>\n",
       "      <td>SLVGCGHFAEVQVYAMKVMFFEEERNILSRSTPWIPQLQYAYLVME...</td>\n",
       "    </tr>\n",
       "    <tr>\n",
       "      <th>1</th>\n",
       "      <td>637</td>\n",
       "      <td>CRIK</td>\n",
       "      <td>citron</td>\n",
       "      <td>Cit</td>\n",
       "      <td>DMPK</td>\n",
       "      <td>AGC</td>\n",
       "      <td></td>\n",
       "      <td>Mouse</td>\n",
       "      <td>P49025</td>\n",
       "      <td>0</td>\n",
       "      <td>SLVGCGHFAEVQVYAMKIMFFEEERNILSRSTPWIPQLQYAYLVME...</td>\n",
       "    </tr>\n",
       "  </tbody>\n",
       "</table>\n",
       "</div>"
      ],
      "text/plain": [
       "   kinase.klifs_id kinase.klifs_name  \\\n",
       "0                4              CRIK   \n",
       "1              637              CRIK   \n",
       "\n",
       "                                 kinase.full_name kinase.gene_name  \\\n",
       "0  citron rho-interacting serine/threonine kinase              CIT   \n",
       "1                                          citron              Cit   \n",
       "\n",
       "  kinase.family kinase.group kinase.class species.klifs kinase.uniprot  \\\n",
       "0          DMPK          AGC         CRIK         Human         O14578   \n",
       "1          DMPK          AGC                      Mouse         P49025   \n",
       "\n",
       "   kinase.iuphar                                      kinase.pocket  \n",
       "0           1509  SLVGCGHFAEVQVYAMKVMFFEEERNILSRSTPWIPQLQYAYLVME...  \n",
       "1              0  SLVGCGHFAEVQVYAMKIMFFEEERNILSRSTPWIPQLQYAYLVME...  "
      ]
     },
     "execution_count": 10,
     "metadata": {},
     "output_type": "execute_result"
    }
   ],
   "source": [
    "remote.kinases.by_kinase_name(kinase_names='CRIK')"
   ]
  },
  {
   "cell_type": "code",
   "execution_count": 11,
   "metadata": {},
   "outputs": [
    {
     "data": {
      "application/vnd.jupyter.widget-view+json": {
       "model_id": "d3bc00d67bd74d29a76e17be82f78675",
       "version_major": 2,
       "version_minor": 0
      },
      "text/plain": [
       "HBox(children=(HTML(value='Processing...'), FloatProgress(value=0.0, max=1.0), HTML(value='')))"
      ]
     },
     "metadata": {},
     "output_type": "display_data"
    },
    {
     "name": "stdout",
     "output_type": "stream",
     "text": [
      "\n"
     ]
    },
    {
     "data": {
      "text/html": [
       "<div>\n",
       "<style scoped>\n",
       "    .dataframe tbody tr th:only-of-type {\n",
       "        vertical-align: middle;\n",
       "    }\n",
       "\n",
       "    .dataframe tbody tr th {\n",
       "        vertical-align: top;\n",
       "    }\n",
       "\n",
       "    .dataframe thead th {\n",
       "        text-align: right;\n",
       "    }\n",
       "</style>\n",
       "<table border=\"1\" class=\"dataframe\">\n",
       "  <thead>\n",
       "    <tr style=\"text-align: right;\">\n",
       "      <th></th>\n",
       "      <th>kinase.klifs_id</th>\n",
       "      <th>kinase.klifs_name</th>\n",
       "      <th>kinase.full_name</th>\n",
       "      <th>kinase.gene_name</th>\n",
       "      <th>kinase.family</th>\n",
       "      <th>kinase.group</th>\n",
       "      <th>kinase.class</th>\n",
       "      <th>species.klifs</th>\n",
       "      <th>kinase.uniprot</th>\n",
       "      <th>kinase.iuphar</th>\n",
       "      <th>kinase.pocket</th>\n",
       "    </tr>\n",
       "  </thead>\n",
       "  <tbody>\n",
       "    <tr>\n",
       "      <th>0</th>\n",
       "      <td>4</td>\n",
       "      <td>CRIK</td>\n",
       "      <td>citron rho-interacting serine/threonine kinase</td>\n",
       "      <td>CIT</td>\n",
       "      <td>DMPK</td>\n",
       "      <td>AGC</td>\n",
       "      <td>CRIK</td>\n",
       "      <td>Human</td>\n",
       "      <td>O14578</td>\n",
       "      <td>1509</td>\n",
       "      <td>SLVGCGHFAEVQVYAMKVMFFEEERNILSRSTPWIPQLQYAYLVME...</td>\n",
       "    </tr>\n",
       "    <tr>\n",
       "      <th>1</th>\n",
       "      <td>637</td>\n",
       "      <td>CRIK</td>\n",
       "      <td>citron</td>\n",
       "      <td>Cit</td>\n",
       "      <td>DMPK</td>\n",
       "      <td>AGC</td>\n",
       "      <td></td>\n",
       "      <td>Mouse</td>\n",
       "      <td>P49025</td>\n",
       "      <td>0</td>\n",
       "      <td>SLVGCGHFAEVQVYAMKIMFFEEERNILSRSTPWIPQLQYAYLVME...</td>\n",
       "    </tr>\n",
       "  </tbody>\n",
       "</table>\n",
       "</div>"
      ],
      "text/plain": [
       "   kinase.klifs_id kinase.klifs_name  \\\n",
       "0                4              CRIK   \n",
       "1              637              CRIK   \n",
       "\n",
       "                                 kinase.full_name kinase.gene_name  \\\n",
       "0  citron rho-interacting serine/threonine kinase              CIT   \n",
       "1                                          citron              Cit   \n",
       "\n",
       "  kinase.family kinase.group kinase.class species.klifs kinase.uniprot  \\\n",
       "0          DMPK          AGC         CRIK         Human         O14578   \n",
       "1          DMPK          AGC                      Mouse         P49025   \n",
       "\n",
       "   kinase.iuphar                                      kinase.pocket  \n",
       "0           1509  SLVGCGHFAEVQVYAMKVMFFEEERNILSRSTPWIPQLQYAYLVME...  \n",
       "1              0  SLVGCGHFAEVQVYAMKIMFFEEERNILSRSTPWIPQLQYAYLVME...  "
      ]
     },
     "execution_count": 11,
     "metadata": {},
     "output_type": "execute_result"
    }
   ],
   "source": [
    "remote.kinases.by_kinase_name(kinase_names='CIT')"
   ]
  },
  {
   "cell_type": "markdown",
   "metadata": {},
   "source": [
    "__Note__: Apparently, the kinase name is matched for `kinase.klifs_name` and `kinase.gene_name`."
   ]
  },
  {
   "cell_type": "markdown",
   "metadata": {},
   "source": [
    "## Merge details for kinases 1 and 2"
   ]
  },
  {
   "cell_type": "code",
   "execution_count": 12,
   "metadata": {},
   "outputs": [
    {
     "data": {
      "text/html": [
       "<div>\n",
       "<style scoped>\n",
       "    .dataframe tbody tr th:only-of-type {\n",
       "        vertical-align: middle;\n",
       "    }\n",
       "\n",
       "    .dataframe tbody tr th {\n",
       "        vertical-align: top;\n",
       "    }\n",
       "\n",
       "    .dataframe thead th {\n",
       "        text-align: right;\n",
       "    }\n",
       "</style>\n",
       "<table border=\"1\" class=\"dataframe\">\n",
       "  <thead>\n",
       "    <tr style=\"text-align: right;\">\n",
       "      <th></th>\n",
       "      <th>kinase.klifs_id</th>\n",
       "      <th>kinase.gene_name_x</th>\n",
       "      <th>kinase.full_name_x</th>\n",
       "      <th>kinase.klifs_name_x</th>\n",
       "      <th>kinase.klifs_name_y</th>\n",
       "      <th>kinase.gene_name_y</th>\n",
       "      <th>kinase.full_name_y</th>\n",
       "    </tr>\n",
       "  </thead>\n",
       "  <tbody>\n",
       "    <tr>\n",
       "      <th>0</th>\n",
       "      <td>1</td>\n",
       "      <td>AKT1</td>\n",
       "      <td>v-akt murine thymoma viral oncogene homolog 1</td>\n",
       "      <td>AKT1</td>\n",
       "      <td>AKT1</td>\n",
       "      <td>AKT1</td>\n",
       "      <td>v-akt murine thymoma viral oncogene homolog 1</td>\n",
       "    </tr>\n",
       "    <tr>\n",
       "      <th>1</th>\n",
       "      <td>2</td>\n",
       "      <td>AKT2</td>\n",
       "      <td>v-akt murine thymoma viral oncogene homolog 2</td>\n",
       "      <td>AKT2</td>\n",
       "      <td>AKT2</td>\n",
       "      <td>AKT2</td>\n",
       "      <td>v-akt murine thymoma viral oncogene homolog 2</td>\n",
       "    </tr>\n",
       "    <tr>\n",
       "      <th>2</th>\n",
       "      <td>3</td>\n",
       "      <td>AKT3</td>\n",
       "      <td>v-akt murine thymoma viral oncogene homolog 3</td>\n",
       "      <td>AKT3</td>\n",
       "      <td>AKT3</td>\n",
       "      <td>AKT3</td>\n",
       "      <td>v-akt murine thymoma viral oncogene homolog 3</td>\n",
       "    </tr>\n",
       "    <tr>\n",
       "      <th>3</th>\n",
       "      <td>4</td>\n",
       "      <td>CIT</td>\n",
       "      <td>citron rho-interacting serine/threonine kinase</td>\n",
       "      <td>CRIK</td>\n",
       "      <td>CRIK</td>\n",
       "      <td>CIT</td>\n",
       "      <td>citron rho-interacting serine/threonine kinase</td>\n",
       "    </tr>\n",
       "    <tr>\n",
       "      <th>4</th>\n",
       "      <td>5</td>\n",
       "      <td>DMPK</td>\n",
       "      <td>dystrophia myotonica protein kinase</td>\n",
       "      <td>DMPK1</td>\n",
       "      <td>DMPK1</td>\n",
       "      <td>DMPK</td>\n",
       "      <td>dystrophia myotonica protein kinase</td>\n",
       "    </tr>\n",
       "    <tr>\n",
       "      <th>...</th>\n",
       "      <td>...</td>\n",
       "      <td>...</td>\n",
       "      <td>...</td>\n",
       "      <td>...</td>\n",
       "      <td>...</td>\n",
       "      <td>...</td>\n",
       "      <td>...</td>\n",
       "    </tr>\n",
       "    <tr>\n",
       "      <th>1122</th>\n",
       "      <td>1123</td>\n",
       "      <td>Pip5k1a</td>\n",
       "      <td>phosphatidylinositol-4-phosphate 5-kinase, typ...</td>\n",
       "      <td>Pip5k1a</td>\n",
       "      <td>Pip5k1a</td>\n",
       "      <td>Pip5k1a</td>\n",
       "      <td>phosphatidylinositol-4-phosphate 5-kinase, typ...</td>\n",
       "    </tr>\n",
       "    <tr>\n",
       "      <th>1123</th>\n",
       "      <td>1124</td>\n",
       "      <td>Map4k2</td>\n",
       "      <td>mitogen-activated protein kinase kinase kinase...</td>\n",
       "      <td>Map4k2</td>\n",
       "      <td>Map4k2</td>\n",
       "      <td>Map4k2</td>\n",
       "      <td>mitogen-activated protein kinase kinase kinase...</td>\n",
       "    </tr>\n",
       "    <tr>\n",
       "      <th>1124</th>\n",
       "      <td>1125</td>\n",
       "      <td>Pan3</td>\n",
       "      <td>PAN3 poly(A) specific ribonuclease subunit</td>\n",
       "      <td>Pan3</td>\n",
       "      <td>Pan3</td>\n",
       "      <td>Pan3</td>\n",
       "      <td>PAN3 poly(A) specific ribonuclease subunit</td>\n",
       "    </tr>\n",
       "    <tr>\n",
       "      <th>1125</th>\n",
       "      <td>1126</td>\n",
       "      <td>Plk5</td>\n",
       "      <td>polo like kinase 5</td>\n",
       "      <td>Plk5</td>\n",
       "      <td>Plk5</td>\n",
       "      <td>Plk5</td>\n",
       "      <td>polo like kinase 5</td>\n",
       "    </tr>\n",
       "    <tr>\n",
       "      <th>1126</th>\n",
       "      <td>1127</td>\n",
       "      <td>Efna2</td>\n",
       "      <td>ephrin A2</td>\n",
       "      <td>Efna2</td>\n",
       "      <td>Efna2</td>\n",
       "      <td>Efna2</td>\n",
       "      <td>ephrin A2</td>\n",
       "    </tr>\n",
       "  </tbody>\n",
       "</table>\n",
       "<p>1127 rows × 7 columns</p>\n",
       "</div>"
      ],
      "text/plain": [
       "      kinase.klifs_id kinase.gene_name_x  \\\n",
       "0                   1               AKT1   \n",
       "1                   2               AKT2   \n",
       "2                   3               AKT3   \n",
       "3                   4                CIT   \n",
       "4                   5               DMPK   \n",
       "...               ...                ...   \n",
       "1122             1123            Pip5k1a   \n",
       "1123             1124             Map4k2   \n",
       "1124             1125               Pan3   \n",
       "1125             1126               Plk5   \n",
       "1126             1127              Efna2   \n",
       "\n",
       "                                     kinase.full_name_x kinase.klifs_name_x  \\\n",
       "0         v-akt murine thymoma viral oncogene homolog 1                AKT1   \n",
       "1         v-akt murine thymoma viral oncogene homolog 2                AKT2   \n",
       "2         v-akt murine thymoma viral oncogene homolog 3                AKT3   \n",
       "3        citron rho-interacting serine/threonine kinase                CRIK   \n",
       "4                   dystrophia myotonica protein kinase               DMPK1   \n",
       "...                                                 ...                 ...   \n",
       "1122  phosphatidylinositol-4-phosphate 5-kinase, typ...             Pip5k1a   \n",
       "1123  mitogen-activated protein kinase kinase kinase...              Map4k2   \n",
       "1124         PAN3 poly(A) specific ribonuclease subunit                Pan3   \n",
       "1125                                 polo like kinase 5                Plk5   \n",
       "1126                                          ephrin A2               Efna2   \n",
       "\n",
       "     kinase.klifs_name_y kinase.gene_name_y  \\\n",
       "0                   AKT1               AKT1   \n",
       "1                   AKT2               AKT2   \n",
       "2                   AKT3               AKT3   \n",
       "3                   CRIK                CIT   \n",
       "4                  DMPK1               DMPK   \n",
       "...                  ...                ...   \n",
       "1122             Pip5k1a            Pip5k1a   \n",
       "1123              Map4k2             Map4k2   \n",
       "1124                Pan3               Pan3   \n",
       "1125                Plk5               Plk5   \n",
       "1126               Efna2              Efna2   \n",
       "\n",
       "                                     kinase.full_name_y  \n",
       "0         v-akt murine thymoma viral oncogene homolog 1  \n",
       "1         v-akt murine thymoma viral oncogene homolog 2  \n",
       "2         v-akt murine thymoma viral oncogene homolog 3  \n",
       "3        citron rho-interacting serine/threonine kinase  \n",
       "4                   dystrophia myotonica protein kinase  \n",
       "...                                                 ...  \n",
       "1122  phosphatidylinositol-4-phosphate 5-kinase, typ...  \n",
       "1123  mitogen-activated protein kinase kinase kinase...  \n",
       "1124         PAN3 poly(A) specific ribonuclease subunit  \n",
       "1125                                 polo like kinase 5  \n",
       "1126                                          ephrin A2  \n",
       "\n",
       "[1127 rows x 7 columns]"
      ]
     },
     "execution_count": 12,
     "metadata": {},
     "output_type": "execute_result"
    }
   ],
   "source": [
    "kinases = kinases1.merge(kinases2, on=\"kinase.klifs_id\", how=\"left\")\n",
    "kinases = kinases[[\"kinase.klifs_id\", \"kinase.gene_name_x\", \"kinase.full_name_x\", \"kinase.klifs_name_x\", \"kinase.klifs_name_y\", \"kinase.gene_name_y\", \"kinase.full_name_y\"]]\n",
    "kinases"
   ]
  },
  {
   "cell_type": "markdown",
   "metadata": {},
   "source": [
    "## **Questions** comparing kinases 1 and kinases 2 details"
   ]
  },
  {
   "cell_type": "markdown",
   "metadata": {},
   "source": [
    "### Differing `kinase.klifs_names` (kinases 1 vs. kinases 2)?"
   ]
  },
  {
   "cell_type": "code",
   "execution_count": 13,
   "metadata": {},
   "outputs": [
    {
     "data": {
      "text/html": [
       "<div>\n",
       "<style scoped>\n",
       "    .dataframe tbody tr th:only-of-type {\n",
       "        vertical-align: middle;\n",
       "    }\n",
       "\n",
       "    .dataframe tbody tr th {\n",
       "        vertical-align: top;\n",
       "    }\n",
       "\n",
       "    .dataframe thead th {\n",
       "        text-align: right;\n",
       "    }\n",
       "</style>\n",
       "<table border=\"1\" class=\"dataframe\">\n",
       "  <thead>\n",
       "    <tr style=\"text-align: right;\">\n",
       "      <th></th>\n",
       "      <th>kinase.klifs_id</th>\n",
       "      <th>kinase.gene_name_x</th>\n",
       "      <th>kinase.full_name_x</th>\n",
       "      <th>kinase.klifs_name_x</th>\n",
       "      <th>kinase.klifs_name_y</th>\n",
       "      <th>kinase.gene_name_y</th>\n",
       "      <th>kinase.full_name_y</th>\n",
       "    </tr>\n",
       "  </thead>\n",
       "  <tbody>\n",
       "  </tbody>\n",
       "</table>\n",
       "</div>"
      ],
      "text/plain": [
       "Empty DataFrame\n",
       "Columns: [kinase.klifs_id, kinase.gene_name_x, kinase.full_name_x, kinase.klifs_name_x, kinase.klifs_name_y, kinase.gene_name_y, kinase.full_name_y]\n",
       "Index: []"
      ]
     },
     "execution_count": 13,
     "metadata": {},
     "output_type": "execute_result"
    }
   ],
   "source": [
    "kinases[kinases[\"kinase.klifs_name_x\"] != kinases[\"kinase.klifs_name_x\"]]"
   ]
  },
  {
   "cell_type": "code",
   "execution_count": 14,
   "metadata": {},
   "outputs": [
    {
     "data": {
      "text/html": [
       "<div>\n",
       "<style scoped>\n",
       "    .dataframe tbody tr th:only-of-type {\n",
       "        vertical-align: middle;\n",
       "    }\n",
       "\n",
       "    .dataframe tbody tr th {\n",
       "        vertical-align: top;\n",
       "    }\n",
       "\n",
       "    .dataframe thead th {\n",
       "        text-align: right;\n",
       "    }\n",
       "</style>\n",
       "<table border=\"1\" class=\"dataframe\">\n",
       "  <thead>\n",
       "    <tr style=\"text-align: right;\">\n",
       "      <th></th>\n",
       "      <th>kinase.klifs_id</th>\n",
       "      <th>kinase.gene_name_x</th>\n",
       "      <th>kinase.full_name_x</th>\n",
       "      <th>kinase.klifs_name_x</th>\n",
       "      <th>kinase.klifs_name_y</th>\n",
       "      <th>kinase.gene_name_y</th>\n",
       "      <th>kinase.full_name_y</th>\n",
       "    </tr>\n",
       "  </thead>\n",
       "  <tbody>\n",
       "  </tbody>\n",
       "</table>\n",
       "</div>"
      ],
      "text/plain": [
       "Empty DataFrame\n",
       "Columns: [kinase.klifs_id, kinase.gene_name_x, kinase.full_name_x, kinase.klifs_name_x, kinase.klifs_name_y, kinase.gene_name_y, kinase.full_name_y]\n",
       "Index: []"
      ]
     },
     "execution_count": 14,
     "metadata": {},
     "output_type": "execute_result"
    }
   ],
   "source": [
    "kinases[kinases[\"kinase.klifs_name_x\"].isin([\"\", \" \", 0, \"0\", None])]"
   ]
  },
  {
   "cell_type": "markdown",
   "metadata": {},
   "source": [
    "### Differing `kinase.name_full` (kinases 1 vs. kinases 2)?"
   ]
  },
  {
   "cell_type": "code",
   "execution_count": 15,
   "metadata": {},
   "outputs": [
    {
     "data": {
      "text/html": [
       "<div>\n",
       "<style scoped>\n",
       "    .dataframe tbody tr th:only-of-type {\n",
       "        vertical-align: middle;\n",
       "    }\n",
       "\n",
       "    .dataframe tbody tr th {\n",
       "        vertical-align: top;\n",
       "    }\n",
       "\n",
       "    .dataframe thead th {\n",
       "        text-align: right;\n",
       "    }\n",
       "</style>\n",
       "<table border=\"1\" class=\"dataframe\">\n",
       "  <thead>\n",
       "    <tr style=\"text-align: right;\">\n",
       "      <th></th>\n",
       "      <th>kinase.klifs_id</th>\n",
       "      <th>kinase.gene_name_x</th>\n",
       "      <th>kinase.full_name_x</th>\n",
       "      <th>kinase.klifs_name_x</th>\n",
       "      <th>kinase.klifs_name_y</th>\n",
       "      <th>kinase.gene_name_y</th>\n",
       "      <th>kinase.full_name_y</th>\n",
       "    </tr>\n",
       "  </thead>\n",
       "  <tbody>\n",
       "  </tbody>\n",
       "</table>\n",
       "</div>"
      ],
      "text/plain": [
       "Empty DataFrame\n",
       "Columns: [kinase.klifs_id, kinase.gene_name_x, kinase.full_name_x, kinase.klifs_name_x, kinase.klifs_name_y, kinase.gene_name_y, kinase.full_name_y]\n",
       "Index: []"
      ]
     },
     "execution_count": 15,
     "metadata": {},
     "output_type": "execute_result"
    }
   ],
   "source": [
    "kinases[kinases[\"kinase.full_name_x\"] != kinases[\"kinase.full_name_x\"]]"
   ]
  },
  {
   "cell_type": "code",
   "execution_count": 16,
   "metadata": {},
   "outputs": [
    {
     "data": {
      "text/html": [
       "<div>\n",
       "<style scoped>\n",
       "    .dataframe tbody tr th:only-of-type {\n",
       "        vertical-align: middle;\n",
       "    }\n",
       "\n",
       "    .dataframe tbody tr th {\n",
       "        vertical-align: top;\n",
       "    }\n",
       "\n",
       "    .dataframe thead th {\n",
       "        text-align: right;\n",
       "    }\n",
       "</style>\n",
       "<table border=\"1\" class=\"dataframe\">\n",
       "  <thead>\n",
       "    <tr style=\"text-align: right;\">\n",
       "      <th></th>\n",
       "      <th>kinase.klifs_id</th>\n",
       "      <th>kinase.gene_name_x</th>\n",
       "      <th>kinase.full_name_x</th>\n",
       "      <th>kinase.klifs_name_x</th>\n",
       "      <th>kinase.klifs_name_y</th>\n",
       "      <th>kinase.gene_name_y</th>\n",
       "      <th>kinase.full_name_y</th>\n",
       "    </tr>\n",
       "  </thead>\n",
       "  <tbody>\n",
       "    <tr>\n",
       "      <th>528</th>\n",
       "      <td>529</td>\n",
       "      <td></td>\n",
       "      <td>0</td>\n",
       "      <td>A6</td>\n",
       "      <td>A6</td>\n",
       "      <td></td>\n",
       "      <td>0</td>\n",
       "    </tr>\n",
       "    <tr>\n",
       "      <th>529</th>\n",
       "      <td>530</td>\n",
       "      <td></td>\n",
       "      <td>0</td>\n",
       "      <td>A6r</td>\n",
       "      <td>A6r</td>\n",
       "      <td></td>\n",
       "      <td>0</td>\n",
       "    </tr>\n",
       "  </tbody>\n",
       "</table>\n",
       "</div>"
      ],
      "text/plain": [
       "     kinase.klifs_id kinase.gene_name_x kinase.full_name_x  \\\n",
       "528              529                                     0   \n",
       "529              530                                     0   \n",
       "\n",
       "    kinase.klifs_name_x kinase.klifs_name_y kinase.gene_name_y  \\\n",
       "528                  A6                  A6                      \n",
       "529                 A6r                 A6r                      \n",
       "\n",
       "    kinase.full_name_y  \n",
       "528                  0  \n",
       "529                  0  "
      ]
     },
     "execution_count": 16,
     "metadata": {},
     "output_type": "execute_result"
    }
   ],
   "source": [
    "kinases[kinases[\"kinase.full_name_x\"].isin([\"\", \" \", 0, \"0\", None])]"
   ]
  },
  {
   "cell_type": "markdown",
   "metadata": {},
   "source": [
    "### Differing `kinase.gene_name` (kinases 1 vs. kinases 2)?"
   ]
  },
  {
   "cell_type": "code",
   "execution_count": 17,
   "metadata": {},
   "outputs": [
    {
     "data": {
      "text/html": [
       "<div>\n",
       "<style scoped>\n",
       "    .dataframe tbody tr th:only-of-type {\n",
       "        vertical-align: middle;\n",
       "    }\n",
       "\n",
       "    .dataframe tbody tr th {\n",
       "        vertical-align: top;\n",
       "    }\n",
       "\n",
       "    .dataframe thead th {\n",
       "        text-align: right;\n",
       "    }\n",
       "</style>\n",
       "<table border=\"1\" class=\"dataframe\">\n",
       "  <thead>\n",
       "    <tr style=\"text-align: right;\">\n",
       "      <th></th>\n",
       "      <th>kinase.klifs_id</th>\n",
       "      <th>kinase.gene_name_x</th>\n",
       "      <th>kinase.full_name_x</th>\n",
       "      <th>kinase.klifs_name_x</th>\n",
       "      <th>kinase.klifs_name_y</th>\n",
       "      <th>kinase.gene_name_y</th>\n",
       "      <th>kinase.full_name_y</th>\n",
       "    </tr>\n",
       "  </thead>\n",
       "  <tbody>\n",
       "  </tbody>\n",
       "</table>\n",
       "</div>"
      ],
      "text/plain": [
       "Empty DataFrame\n",
       "Columns: [kinase.klifs_id, kinase.gene_name_x, kinase.full_name_x, kinase.klifs_name_x, kinase.klifs_name_y, kinase.gene_name_y, kinase.full_name_y]\n",
       "Index: []"
      ]
     },
     "execution_count": 17,
     "metadata": {},
     "output_type": "execute_result"
    }
   ],
   "source": [
    "kinases[kinases[\"kinase.gene_name_x\"] != kinases[\"kinase.gene_name_x\"]]"
   ]
  },
  {
   "cell_type": "code",
   "execution_count": 18,
   "metadata": {},
   "outputs": [
    {
     "data": {
      "text/html": [
       "<div>\n",
       "<style scoped>\n",
       "    .dataframe tbody tr th:only-of-type {\n",
       "        vertical-align: middle;\n",
       "    }\n",
       "\n",
       "    .dataframe tbody tr th {\n",
       "        vertical-align: top;\n",
       "    }\n",
       "\n",
       "    .dataframe thead th {\n",
       "        text-align: right;\n",
       "    }\n",
       "</style>\n",
       "<table border=\"1\" class=\"dataframe\">\n",
       "  <thead>\n",
       "    <tr style=\"text-align: right;\">\n",
       "      <th></th>\n",
       "      <th>kinase.klifs_id</th>\n",
       "      <th>kinase.gene_name_x</th>\n",
       "      <th>kinase.full_name_x</th>\n",
       "      <th>kinase.klifs_name_x</th>\n",
       "      <th>kinase.klifs_name_y</th>\n",
       "      <th>kinase.gene_name_y</th>\n",
       "      <th>kinase.full_name_y</th>\n",
       "    </tr>\n",
       "  </thead>\n",
       "  <tbody>\n",
       "    <tr>\n",
       "      <th>528</th>\n",
       "      <td>529</td>\n",
       "      <td></td>\n",
       "      <td>0</td>\n",
       "      <td>A6</td>\n",
       "      <td>A6</td>\n",
       "      <td></td>\n",
       "      <td>0</td>\n",
       "    </tr>\n",
       "    <tr>\n",
       "      <th>529</th>\n",
       "      <td>530</td>\n",
       "      <td></td>\n",
       "      <td>0</td>\n",
       "      <td>A6r</td>\n",
       "      <td>A6r</td>\n",
       "      <td></td>\n",
       "      <td>0</td>\n",
       "    </tr>\n",
       "  </tbody>\n",
       "</table>\n",
       "</div>"
      ],
      "text/plain": [
       "     kinase.klifs_id kinase.gene_name_x kinase.full_name_x  \\\n",
       "528              529                                     0   \n",
       "529              530                                     0   \n",
       "\n",
       "    kinase.klifs_name_x kinase.klifs_name_y kinase.gene_name_y  \\\n",
       "528                  A6                  A6                      \n",
       "529                 A6r                 A6r                      \n",
       "\n",
       "    kinase.full_name_y  \n",
       "528                  0  \n",
       "529                  0  "
      ]
     },
     "execution_count": 18,
     "metadata": {},
     "output_type": "execute_result"
    }
   ],
   "source": [
    "kinases[kinases[\"kinase.gene_name_x\"].isin([\"\", \" \", 0, \"0\", None])]"
   ]
  },
  {
   "cell_type": "markdown",
   "metadata": {},
   "source": [
    "**Note 1**: Columns are identical in kinases 1 and kinases 2, yay!!"
   ]
  },
  {
   "cell_type": "markdown",
   "metadata": {},
   "source": [
    "**Note 2**: Kinases A6 and A6r are the only kinases with partially missing kinase names."
   ]
  },
  {
   "cell_type": "markdown",
   "metadata": {},
   "source": [
    "## Local kinase details"
   ]
  },
  {
   "cell_type": "code",
   "execution_count": 19,
   "metadata": {},
   "outputs": [
    {
     "name": "stdout",
     "output_type": "stream",
     "text": [
      "(11592, 15) (11592, 26)\n"
     ]
    }
   ],
   "source": [
    "from opencadd.databases.klifs.local import _LocalDatabaseGenerator\n",
    "local = _LocalDatabaseGenerator()\n",
    "klifs_export_path = \"data/KLIFS_export.20201020.csv.zip\"\n",
    "klifs_export = local._from_klifs_export_file(klifs_export_path)\n",
    "klifs_overview_path = \"data/overview.20201020.csv.zip\"\n",
    "klifs_overview = local._from_klifs_overview_file(klifs_overview_path)\n",
    "print(klifs_export.shape, klifs_overview.shape)"
   ]
  },
  {
   "cell_type": "code",
   "execution_count": 20,
   "metadata": {},
   "outputs": [
    {
     "data": {
      "text/html": [
       "<div>\n",
       "<style scoped>\n",
       "    .dataframe tbody tr th:only-of-type {\n",
       "        vertical-align: middle;\n",
       "    }\n",
       "\n",
       "    .dataframe tbody tr th {\n",
       "        vertical-align: top;\n",
       "    }\n",
       "\n",
       "    .dataframe thead th {\n",
       "        text-align: right;\n",
       "    }\n",
       "</style>\n",
       "<table border=\"1\" class=\"dataframe\">\n",
       "  <thead>\n",
       "    <tr style=\"text-align: right;\">\n",
       "      <th></th>\n",
       "      <th>kinase.names</th>\n",
       "      <th>kinase.gene_name</th>\n",
       "      <th>kinase.klifs_name</th>\n",
       "      <th>kinase.family</th>\n",
       "      <th>kinase.group</th>\n",
       "      <th>structure.pdb_id</th>\n",
       "      <th>structure.chain</th>\n",
       "      <th>structure.alternate_model</th>\n",
       "      <th>species.klifs</th>\n",
       "      <th>ligand.name</th>\n",
       "      <th>ligand.expo_id</th>\n",
       "      <th>ligand_allosteric.name</th>\n",
       "      <th>ligand_allosteric.expo_id</th>\n",
       "      <th>structure.dfg</th>\n",
       "      <th>structure.ac_helix</th>\n",
       "    </tr>\n",
       "  </thead>\n",
       "  <tbody>\n",
       "    <tr>\n",
       "      <th>0</th>\n",
       "      <td>[MAPK14, p38a]</td>\n",
       "      <td>MAPK14</td>\n",
       "      <td>p38a</td>\n",
       "      <td>MAPK</td>\n",
       "      <td>CMGC</td>\n",
       "      <td>1a9u</td>\n",
       "      <td>A</td>\n",
       "      <td>-</td>\n",
       "      <td>Human</td>\n",
       "      <td>4-[5-(4-FLUORO-PHENYL)-2-(4-METHANESULFINYL-PH...</td>\n",
       "      <td>SB2</td>\n",
       "      <td>-</td>\n",
       "      <td>-</td>\n",
       "      <td>in</td>\n",
       "      <td>out-like</td>\n",
       "    </tr>\n",
       "    <tr>\n",
       "      <th>1</th>\n",
       "      <td>[HCK]</td>\n",
       "      <td>HCK</td>\n",
       "      <td>HCK</td>\n",
       "      <td>Src</td>\n",
       "      <td>TK</td>\n",
       "      <td>1ad5</td>\n",
       "      <td>A</td>\n",
       "      <td>-</td>\n",
       "      <td>Human</td>\n",
       "      <td>PHOSPHOAMINOPHOSPHONIC ACID-ADENYLATE ESTER</td>\n",
       "      <td>ANP</td>\n",
       "      <td>-</td>\n",
       "      <td>-</td>\n",
       "      <td>in</td>\n",
       "      <td>out</td>\n",
       "    </tr>\n",
       "    <tr>\n",
       "      <th>2</th>\n",
       "      <td>[HCK]</td>\n",
       "      <td>HCK</td>\n",
       "      <td>HCK</td>\n",
       "      <td>Src</td>\n",
       "      <td>TK</td>\n",
       "      <td>1ad5</td>\n",
       "      <td>B</td>\n",
       "      <td>-</td>\n",
       "      <td>Human</td>\n",
       "      <td>PHOSPHOAMINOPHOSPHONIC ACID-ADENYLATE ESTER</td>\n",
       "      <td>ANP</td>\n",
       "      <td>-</td>\n",
       "      <td>-</td>\n",
       "      <td>in</td>\n",
       "      <td>out-like</td>\n",
       "    </tr>\n",
       "    <tr>\n",
       "      <th>3</th>\n",
       "      <td>[FGFR1]</td>\n",
       "      <td>FGFR1</td>\n",
       "      <td>FGFR1</td>\n",
       "      <td>FGFR</td>\n",
       "      <td>TK</td>\n",
       "      <td>1agw</td>\n",
       "      <td>A</td>\n",
       "      <td>A</td>\n",
       "      <td>Human</td>\n",
       "      <td>3-[4-(1-FORMYLPIPERAZIN-4-YL)-BENZYLIDENYL]-2-...</td>\n",
       "      <td>SU2</td>\n",
       "      <td>-</td>\n",
       "      <td>-</td>\n",
       "      <td>in</td>\n",
       "      <td>out-like</td>\n",
       "    </tr>\n",
       "    <tr>\n",
       "      <th>4</th>\n",
       "      <td>[FGFR1]</td>\n",
       "      <td>FGFR1</td>\n",
       "      <td>FGFR1</td>\n",
       "      <td>FGFR</td>\n",
       "      <td>TK</td>\n",
       "      <td>1agw</td>\n",
       "      <td>A</td>\n",
       "      <td>B</td>\n",
       "      <td>Human</td>\n",
       "      <td>3-[4-(1-FORMYLPIPERAZIN-4-YL)-BENZYLIDENYL]-2-...</td>\n",
       "      <td>SU2</td>\n",
       "      <td>-</td>\n",
       "      <td>-</td>\n",
       "      <td>in</td>\n",
       "      <td>out-like</td>\n",
       "    </tr>\n",
       "  </tbody>\n",
       "</table>\n",
       "</div>"
      ],
      "text/plain": [
       "     kinase.names kinase.gene_name kinase.klifs_name kinase.family  \\\n",
       "0  [MAPK14, p38a]           MAPK14              p38a          MAPK   \n",
       "1           [HCK]              HCK               HCK           Src   \n",
       "2           [HCK]              HCK               HCK           Src   \n",
       "3         [FGFR1]            FGFR1             FGFR1          FGFR   \n",
       "4         [FGFR1]            FGFR1             FGFR1          FGFR   \n",
       "\n",
       "  kinase.group structure.pdb_id structure.chain structure.alternate_model  \\\n",
       "0         CMGC             1a9u               A                         -   \n",
       "1           TK             1ad5               A                         -   \n",
       "2           TK             1ad5               B                         -   \n",
       "3           TK             1agw               A                         A   \n",
       "4           TK             1agw               A                         B   \n",
       "\n",
       "  species.klifs                                        ligand.name  \\\n",
       "0         Human  4-[5-(4-FLUORO-PHENYL)-2-(4-METHANESULFINYL-PH...   \n",
       "1         Human        PHOSPHOAMINOPHOSPHONIC ACID-ADENYLATE ESTER   \n",
       "2         Human        PHOSPHOAMINOPHOSPHONIC ACID-ADENYLATE ESTER   \n",
       "3         Human  3-[4-(1-FORMYLPIPERAZIN-4-YL)-BENZYLIDENYL]-2-...   \n",
       "4         Human  3-[4-(1-FORMYLPIPERAZIN-4-YL)-BENZYLIDENYL]-2-...   \n",
       "\n",
       "  ligand.expo_id ligand_allosteric.name ligand_allosteric.expo_id  \\\n",
       "0            SB2                      -                         -   \n",
       "1            ANP                      -                         -   \n",
       "2            ANP                      -                         -   \n",
       "3            SU2                      -                         -   \n",
       "4            SU2                      -                         -   \n",
       "\n",
       "  structure.dfg structure.ac_helix  \n",
       "0            in           out-like  \n",
       "1            in                out  \n",
       "2            in           out-like  \n",
       "3            in           out-like  \n",
       "4            in           out-like  "
      ]
     },
     "execution_count": 20,
     "metadata": {},
     "output_type": "execute_result"
    }
   ],
   "source": [
    "klifs_export.sort_values([\"structure.pdb_id\", \"structure.chain\", \"structure.alternate_model\"], inplace=True, ignore_index=True)\n",
    "klifs_export.head()"
   ]
  },
  {
   "cell_type": "code",
   "execution_count": 21,
   "metadata": {},
   "outputs": [
    {
     "data": {
      "text/plain": [
       "(4867, 15)"
      ]
     },
     "execution_count": 21,
     "metadata": {},
     "output_type": "execute_result"
    }
   ],
   "source": [
    "klifs_export[klifs_export[\"kinase.names\"].apply(len) == 2].shape"
   ]
  },
  {
   "cell_type": "code",
   "execution_count": 22,
   "metadata": {},
   "outputs": [
    {
     "data": {
      "text/html": [
       "<div>\n",
       "<style scoped>\n",
       "    .dataframe tbody tr th:only-of-type {\n",
       "        vertical-align: middle;\n",
       "    }\n",
       "\n",
       "    .dataframe tbody tr th {\n",
       "        vertical-align: top;\n",
       "    }\n",
       "\n",
       "    .dataframe thead th {\n",
       "        text-align: right;\n",
       "    }\n",
       "</style>\n",
       "<table border=\"1\" class=\"dataframe\">\n",
       "  <thead>\n",
       "    <tr style=\"text-align: right;\">\n",
       "      <th></th>\n",
       "      <th>species.klifs</th>\n",
       "      <th>structure.pdb_id</th>\n",
       "      <th>structure.alternate_model</th>\n",
       "      <th>structure.chain</th>\n",
       "      <th>ligand.expo_id</th>\n",
       "      <th>ligand_allosteric.expo_id</th>\n",
       "      <th>structure.rmsd1</th>\n",
       "      <th>structure.rmsd2</th>\n",
       "      <th>structure.qualityscore</th>\n",
       "      <th>structure.pocket</th>\n",
       "      <th>structure.resolution</th>\n",
       "      <th>structure.missing_residues</th>\n",
       "      <th>structure.missing_atoms</th>\n",
       "      <th>interaction.fingerprint</th>\n",
       "      <th>structure.fp_i</th>\n",
       "      <th>structure.fp_ii</th>\n",
       "      <th>structure.bp_i_a</th>\n",
       "      <th>structure.bp_i_b</th>\n",
       "      <th>structure.bp_ii_in</th>\n",
       "      <th>structure.bp_ii_a_in</th>\n",
       "      <th>structure.bp_ii_b_in</th>\n",
       "      <th>structure.bp_ii_out</th>\n",
       "      <th>structure.bp_ii_b</th>\n",
       "      <th>structure.bp_iii</th>\n",
       "      <th>structure.bp_iv</th>\n",
       "      <th>structure.bp_v</th>\n",
       "    </tr>\n",
       "  </thead>\n",
       "  <tbody>\n",
       "    <tr>\n",
       "      <th>0</th>\n",
       "      <td>Human</td>\n",
       "      <td>1a9u</td>\n",
       "      <td>-</td>\n",
       "      <td>A</td>\n",
       "      <td>SB2</td>\n",
       "      <td>-</td>\n",
       "      <td>0.828</td>\n",
       "      <td>2.186</td>\n",
       "      <td>8.0</td>\n",
       "      <td>SPVGSGAYGSVCAVAVKKLRTYRELRLLKHMKENVIGLLDVYLVTH...</td>\n",
       "      <td>2.5</td>\n",
       "      <td>0</td>\n",
       "      <td>0</td>\n",
       "      <td>0000000000000000000000000000000000000000000000...</td>\n",
       "      <td>0.0</td>\n",
       "      <td>1.0</td>\n",
       "      <td>1.0</td>\n",
       "      <td>1.0</td>\n",
       "      <td>0.0</td>\n",
       "      <td>0.0</td>\n",
       "      <td>0.0</td>\n",
       "      <td>0.0</td>\n",
       "      <td>0.0</td>\n",
       "      <td>0.0</td>\n",
       "      <td>0.0</td>\n",
       "      <td>0.0</td>\n",
       "    </tr>\n",
       "    <tr>\n",
       "      <th>1</th>\n",
       "      <td>Human</td>\n",
       "      <td>1ad5</td>\n",
       "      <td>-</td>\n",
       "      <td>A</td>\n",
       "      <td>ANP</td>\n",
       "      <td>-</td>\n",
       "      <td>0.816</td>\n",
       "      <td>2.141</td>\n",
       "      <td>9.6</td>\n",
       "      <td>KKLGAGQFGEVWMVAVKTMAFLAEANVMKTLQDKLVKLHAVYIITE...</td>\n",
       "      <td>2.6</td>\n",
       "      <td>0</td>\n",
       "      <td>4</td>\n",
       "      <td>0000000000000010000000000000000000000000000000...</td>\n",
       "      <td>0.0</td>\n",
       "      <td>0.0</td>\n",
       "      <td>0.0</td>\n",
       "      <td>0.0</td>\n",
       "      <td>0.0</td>\n",
       "      <td>0.0</td>\n",
       "      <td>0.0</td>\n",
       "      <td>0.0</td>\n",
       "      <td>0.0</td>\n",
       "      <td>0.0</td>\n",
       "      <td>0.0</td>\n",
       "      <td>0.0</td>\n",
       "    </tr>\n",
       "    <tr>\n",
       "      <th>2</th>\n",
       "      <td>Human</td>\n",
       "      <td>1ad5</td>\n",
       "      <td>-</td>\n",
       "      <td>B</td>\n",
       "      <td>ANP</td>\n",
       "      <td>-</td>\n",
       "      <td>0.817</td>\n",
       "      <td>2.141</td>\n",
       "      <td>9.6</td>\n",
       "      <td>KKLGAGQFGEVWMVAVKTMAFLAEANVMKTLQDKLVKLHAVYIITE...</td>\n",
       "      <td>2.6</td>\n",
       "      <td>0</td>\n",
       "      <td>4</td>\n",
       "      <td>0000000000000010000001000000000000000000000000...</td>\n",
       "      <td>0.0</td>\n",
       "      <td>0.0</td>\n",
       "      <td>0.0</td>\n",
       "      <td>0.0</td>\n",
       "      <td>0.0</td>\n",
       "      <td>0.0</td>\n",
       "      <td>0.0</td>\n",
       "      <td>0.0</td>\n",
       "      <td>0.0</td>\n",
       "      <td>0.0</td>\n",
       "      <td>0.0</td>\n",
       "      <td>0.0</td>\n",
       "    </tr>\n",
       "    <tr>\n",
       "      <th>3</th>\n",
       "      <td>Human</td>\n",
       "      <td>1agw</td>\n",
       "      <td>A</td>\n",
       "      <td>A</td>\n",
       "      <td>SU2</td>\n",
       "      <td>-</td>\n",
       "      <td>0.831</td>\n",
       "      <td>2.001</td>\n",
       "      <td>7.6</td>\n",
       "      <td>KPLG_____QVVLVAVKMLDLISEMEMMKMIGKNIINLLGAYVIVE...</td>\n",
       "      <td>2.4</td>\n",
       "      <td>5</td>\n",
       "      <td>4</td>\n",
       "      <td>0000000000000010000000000000000000000000000000...</td>\n",
       "      <td>0.0</td>\n",
       "      <td>0.0</td>\n",
       "      <td>0.0</td>\n",
       "      <td>0.0</td>\n",
       "      <td>0.0</td>\n",
       "      <td>0.0</td>\n",
       "      <td>0.0</td>\n",
       "      <td>0.0</td>\n",
       "      <td>0.0</td>\n",
       "      <td>0.0</td>\n",
       "      <td>0.0</td>\n",
       "      <td>0.0</td>\n",
       "    </tr>\n",
       "    <tr>\n",
       "      <th>4</th>\n",
       "      <td>Human</td>\n",
       "      <td>1agw</td>\n",
       "      <td>B</td>\n",
       "      <td>A</td>\n",
       "      <td>SU2</td>\n",
       "      <td>-</td>\n",
       "      <td>0.831</td>\n",
       "      <td>2.001</td>\n",
       "      <td>7.6</td>\n",
       "      <td>KPLG_____QVVLVAVKMLDLISEMEMMKMIGKNIINLLGAYVIVE...</td>\n",
       "      <td>2.4</td>\n",
       "      <td>5</td>\n",
       "      <td>4</td>\n",
       "      <td>0000000000000010000000000000000000000000000000...</td>\n",
       "      <td>0.0</td>\n",
       "      <td>0.0</td>\n",
       "      <td>0.0</td>\n",
       "      <td>0.0</td>\n",
       "      <td>0.0</td>\n",
       "      <td>0.0</td>\n",
       "      <td>0.0</td>\n",
       "      <td>0.0</td>\n",
       "      <td>0.0</td>\n",
       "      <td>0.0</td>\n",
       "      <td>0.0</td>\n",
       "      <td>0.0</td>\n",
       "    </tr>\n",
       "  </tbody>\n",
       "</table>\n",
       "</div>"
      ],
      "text/plain": [
       "  species.klifs structure.pdb_id structure.alternate_model structure.chain  \\\n",
       "0         Human             1a9u                         -               A   \n",
       "1         Human             1ad5                         -               A   \n",
       "2         Human             1ad5                         -               B   \n",
       "3         Human             1agw                         A               A   \n",
       "4         Human             1agw                         B               A   \n",
       "\n",
       "  ligand.expo_id ligand_allosteric.expo_id  structure.rmsd1  structure.rmsd2  \\\n",
       "0            SB2                         -            0.828            2.186   \n",
       "1            ANP                         -            0.816            2.141   \n",
       "2            ANP                         -            0.817            2.141   \n",
       "3            SU2                         -            0.831            2.001   \n",
       "4            SU2                         -            0.831            2.001   \n",
       "\n",
       "   structure.qualityscore                                   structure.pocket  \\\n",
       "0                     8.0  SPVGSGAYGSVCAVAVKKLRTYRELRLLKHMKENVIGLLDVYLVTH...   \n",
       "1                     9.6  KKLGAGQFGEVWMVAVKTMAFLAEANVMKTLQDKLVKLHAVYIITE...   \n",
       "2                     9.6  KKLGAGQFGEVWMVAVKTMAFLAEANVMKTLQDKLVKLHAVYIITE...   \n",
       "3                     7.6  KPLG_____QVVLVAVKMLDLISEMEMMKMIGKNIINLLGAYVIVE...   \n",
       "4                     7.6  KPLG_____QVVLVAVKMLDLISEMEMMKMIGKNIINLLGAYVIVE...   \n",
       "\n",
       "   structure.resolution  structure.missing_residues  structure.missing_atoms  \\\n",
       "0                   2.5                           0                        0   \n",
       "1                   2.6                           0                        4   \n",
       "2                   2.6                           0                        4   \n",
       "3                   2.4                           5                        4   \n",
       "4                   2.4                           5                        4   \n",
       "\n",
       "                             interaction.fingerprint  structure.fp_i  \\\n",
       "0  0000000000000000000000000000000000000000000000...             0.0   \n",
       "1  0000000000000010000000000000000000000000000000...             0.0   \n",
       "2  0000000000000010000001000000000000000000000000...             0.0   \n",
       "3  0000000000000010000000000000000000000000000000...             0.0   \n",
       "4  0000000000000010000000000000000000000000000000...             0.0   \n",
       "\n",
       "   structure.fp_ii  structure.bp_i_a  structure.bp_i_b  structure.bp_ii_in  \\\n",
       "0              1.0               1.0               1.0                 0.0   \n",
       "1              0.0               0.0               0.0                 0.0   \n",
       "2              0.0               0.0               0.0                 0.0   \n",
       "3              0.0               0.0               0.0                 0.0   \n",
       "4              0.0               0.0               0.0                 0.0   \n",
       "\n",
       "   structure.bp_ii_a_in  structure.bp_ii_b_in  structure.bp_ii_out  \\\n",
       "0                   0.0                   0.0                  0.0   \n",
       "1                   0.0                   0.0                  0.0   \n",
       "2                   0.0                   0.0                  0.0   \n",
       "3                   0.0                   0.0                  0.0   \n",
       "4                   0.0                   0.0                  0.0   \n",
       "\n",
       "   structure.bp_ii_b  structure.bp_iii  structure.bp_iv  structure.bp_v  \n",
       "0                0.0               0.0              0.0             0.0  \n",
       "1                0.0               0.0              0.0             0.0  \n",
       "2                0.0               0.0              0.0             0.0  \n",
       "3                0.0               0.0              0.0             0.0  \n",
       "4                0.0               0.0              0.0             0.0  "
      ]
     },
     "execution_count": 22,
     "metadata": {},
     "output_type": "execute_result"
    }
   ],
   "source": [
    "klifs_overview.sort_values([\"structure.pdb_id\", \"structure.chain\", \"structure.alternate_model\"], inplace=True, ignore_index=True)\n",
    "klifs_overview.head()"
   ]
  },
  {
   "cell_type": "markdown",
   "metadata": {},
   "source": [
    "### Kinase name mismatches locally and remotely?"
   ]
  },
  {
   "cell_type": "code",
   "execution_count": 23,
   "metadata": {},
   "outputs": [
    {
     "data": {
      "text/html": [
       "<div>\n",
       "<style scoped>\n",
       "    .dataframe tbody tr th:only-of-type {\n",
       "        vertical-align: middle;\n",
       "    }\n",
       "\n",
       "    .dataframe tbody tr th {\n",
       "        vertical-align: top;\n",
       "    }\n",
       "\n",
       "    .dataframe thead th {\n",
       "        text-align: right;\n",
       "    }\n",
       "</style>\n",
       "<table border=\"1\" class=\"dataframe\">\n",
       "  <thead>\n",
       "    <tr style=\"text-align: right;\">\n",
       "      <th></th>\n",
       "      <th>kinase.names</th>\n",
       "      <th>kinase.gene_name</th>\n",
       "      <th>kinase.klifs_name</th>\n",
       "      <th>kinase.family</th>\n",
       "      <th>kinase.group</th>\n",
       "      <th>structure.pdb_id</th>\n",
       "      <th>structure.chain</th>\n",
       "      <th>structure.alternate_model</th>\n",
       "      <th>species.klifs</th>\n",
       "      <th>ligand.name</th>\n",
       "      <th>ligand.expo_id</th>\n",
       "      <th>ligand_allosteric.name</th>\n",
       "      <th>ligand_allosteric.expo_id</th>\n",
       "      <th>structure.dfg</th>\n",
       "      <th>structure.ac_helix</th>\n",
       "    </tr>\n",
       "  </thead>\n",
       "  <tbody>\n",
       "  </tbody>\n",
       "</table>\n",
       "</div>"
      ],
      "text/plain": [
       "Empty DataFrame\n",
       "Columns: [kinase.names, kinase.gene_name, kinase.klifs_name, kinase.family, kinase.group, structure.pdb_id, structure.chain, structure.alternate_model, species.klifs, ligand.name, ligand.expo_id, ligand_allosteric.name, ligand_allosteric.expo_id, structure.dfg, structure.ac_helix]\n",
       "Index: []"
      ]
     },
     "execution_count": 23,
     "metadata": {},
     "output_type": "execute_result"
    }
   ],
   "source": [
    "klifs_export[~klifs_export[\"kinase.klifs_name\"].isin(kinases[\"kinase.klifs_name_x\"].to_list())]"
   ]
  },
  {
   "cell_type": "markdown",
   "metadata": {},
   "source": [
    "### Kinase HGNC name mismatches locally and remotely?"
   ]
  },
  {
   "cell_type": "code",
   "execution_count": 24,
   "metadata": {},
   "outputs": [
    {
     "data": {
      "text/html": [
       "<div>\n",
       "<style scoped>\n",
       "    .dataframe tbody tr th:only-of-type {\n",
       "        vertical-align: middle;\n",
       "    }\n",
       "\n",
       "    .dataframe tbody tr th {\n",
       "        vertical-align: top;\n",
       "    }\n",
       "\n",
       "    .dataframe thead th {\n",
       "        text-align: right;\n",
       "    }\n",
       "</style>\n",
       "<table border=\"1\" class=\"dataframe\">\n",
       "  <thead>\n",
       "    <tr style=\"text-align: right;\">\n",
       "      <th></th>\n",
       "      <th>kinase.names</th>\n",
       "      <th>kinase.gene_name</th>\n",
       "      <th>kinase.klifs_name</th>\n",
       "      <th>kinase.family</th>\n",
       "      <th>kinase.group</th>\n",
       "      <th>structure.pdb_id</th>\n",
       "      <th>structure.chain</th>\n",
       "      <th>structure.alternate_model</th>\n",
       "      <th>species.klifs</th>\n",
       "      <th>ligand.name</th>\n",
       "      <th>ligand.expo_id</th>\n",
       "      <th>ligand_allosteric.name</th>\n",
       "      <th>ligand_allosteric.expo_id</th>\n",
       "      <th>structure.dfg</th>\n",
       "      <th>structure.ac_helix</th>\n",
       "    </tr>\n",
       "  </thead>\n",
       "  <tbody>\n",
       "  </tbody>\n",
       "</table>\n",
       "</div>"
      ],
      "text/plain": [
       "Empty DataFrame\n",
       "Columns: [kinase.names, kinase.gene_name, kinase.klifs_name, kinase.family, kinase.group, structure.pdb_id, structure.chain, structure.alternate_model, species.klifs, ligand.name, ligand.expo_id, ligand_allosteric.name, ligand_allosteric.expo_id, structure.dfg, structure.ac_helix]\n",
       "Index: []"
      ]
     },
     "execution_count": 24,
     "metadata": {},
     "output_type": "execute_result"
    }
   ],
   "source": [
    "klifs_export[~klifs_export[\"kinase.gene_name\"].isin(kinases[\"kinase.gene_name_x\"].to_list())]"
   ]
  }
 ],
 "metadata": {
  "kernelspec": {
   "display_name": "Python 3",
   "language": "python",
   "name": "python3"
  },
  "language_info": {
   "codemirror_mode": {
    "name": "ipython",
    "version": 3
   },
   "file_extension": ".py",
   "mimetype": "text/x-python",
   "name": "python",
   "nbconvert_exporter": "python",
   "pygments_lexer": "ipython3",
   "version": "3.8.6"
  }
 },
 "nbformat": 4,
 "nbformat_minor": 4
}
