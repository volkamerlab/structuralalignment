{
 "cells": [
  {
   "cell_type": "markdown",
   "metadata": {
    "slideshow": {
     "slide_type": "slide"
    }
   },
   "source": [
    "  \n",
    "# New `opencadd` features\n",
    "\n",
    "- New features still in a PR:\n",
    "https://github.com/volkamerlab/opencadd/pull/44\n",
    "- New features branch:\n",
    "https://github.com/volkamerlab/opencadd/tree/add_io_klifs_subpockets"
   ]
  },
  {
   "cell_type": "markdown",
   "metadata": {
    "slideshow": {
     "slide_type": "fragment"
    }
   },
   "source": [
    "## New modules\n",
    "\n",
    "- `opencadd.io`\n",
    "- `opencadd.databases.klifs`\n",
    "- `opencadd.structure.pocket`"
   ]
  },
  {
   "cell_type": "markdown",
   "metadata": {
    "slideshow": {
     "slide_type": "fragment"
    }
   },
   "source": [
    "## Showcase in this notebook how to...\n",
    "\n",
    "- Explore kinase data (KLIFS)\n",
    "- Define and visualize subpockets"
   ]
  },
  {
   "cell_type": "markdown",
   "metadata": {
    "slideshow": {
     "slide_type": "slide"
    }
   },
   "source": [
    "## Explore kinase data (KLIFS)"
   ]
  },
  {
   "cell_type": "code",
   "execution_count": null,
   "metadata": {
    "slideshow": {
     "slide_type": "fragment"
    }
   },
   "outputs": [],
   "source": [
    "from opencadd.databases.klifs import setup_remote, setup_local"
   ]
  },
  {
   "cell_type": "code",
   "execution_count": null,
   "metadata": {
    "slideshow": {
     "slide_type": "fragment"
    }
   },
   "outputs": [],
   "source": [
    "import pandas as pd\n",
    "pd.set_option('display.max_columns', 50)"
   ]
  },
  {
   "cell_type": "code",
   "execution_count": null,
   "metadata": {
    "slideshow": {
     "slide_type": "subslide"
    }
   },
   "outputs": [],
   "source": [
    "remote = setup_remote()"
   ]
  },
  {
   "cell_type": "markdown",
   "metadata": {
    "slideshow": {
     "slide_type": "fragment"
    }
   },
   "source": [
    "Some of the class method options:\n",
    "\n",
    "|                           | kinases | ligands | structures | bioactivities | interactions | pockets |\n",
    "|:--------------------------| -  | -  | -  | -       | -  | -  |\n",
    "| __by_kinase_klifs_id__    | x* | x* | x* |         | x  |    | \n",
    "| __by_kinase_name__        | x* | x  | x  |         |    |    |\n",
    "| __by_ligand_klifs_id__    |    | x* | x  | x\\* \\** | x  |    |\n",
    "| __by_ligand_expo_id__     |    | x  | x  | x\\* \\** |    |    |\n",
    "| __by_structure_klifs_id__ |    |    | x* |         | x* | x* |\n",
    "| __by_structure_pdb_id__   |    |    | x* |         |    |    |\n",
    "\n",
    " \\* Direct use of KLIFS Swagger API.\n",
    " \n",
    " \\** KLIFS Swagger API allows only ONE input value.\n"
   ]
  },
  {
   "cell_type": "markdown",
   "metadata": {
    "slideshow": {
     "slide_type": "slide"
    }
   },
   "source": [
    "### 1. Get metadata on example ligand"
   ]
  },
  {
   "cell_type": "code",
   "execution_count": null,
   "metadata": {
    "slideshow": {
     "slide_type": "fragment"
    }
   },
   "outputs": [],
   "source": [
    "ligand = remote.ligands.by_ligand_expo_id(\"STI\")  # Imatinib\n",
    "ligand"
   ]
  },
  {
   "cell_type": "markdown",
   "metadata": {
    "slideshow": {
     "slide_type": "slide"
    }
   },
   "source": [
    "### 2. Get bioactivities measured for example ligand"
   ]
  },
  {
   "cell_type": "code",
   "execution_count": null,
   "metadata": {
    "scrolled": true,
    "slideshow": {
     "slide_type": "fragment"
    }
   },
   "outputs": [],
   "source": [
    "bioactivities = remote.bioactivities.by_ligand_klifs_id(48)\n",
    "bioactivities.sort_values(\"ligand.bioactivity_standard_value\", inplace=True)\n",
    "bioactivities"
   ]
  },
  {
   "cell_type": "markdown",
   "metadata": {
    "slideshow": {
     "slide_type": "slide"
    }
   },
   "source": [
    "### 3. Get metadata on example kinase"
   ]
  },
  {
   "cell_type": "code",
   "execution_count": null,
   "metadata": {
    "slideshow": {
     "slide_type": "fragment"
    }
   },
   "outputs": [],
   "source": [
    "kinases = remote.kinases.by_kinase_name(\"ABL1\")\n",
    "kinases"
   ]
  },
  {
   "cell_type": "markdown",
   "metadata": {
    "slideshow": {
     "slide_type": "slide"
    }
   },
   "source": [
    "### 4. Get structures for example kinase"
   ]
  },
  {
   "cell_type": "code",
   "execution_count": null,
   "metadata": {
    "slideshow": {
     "slide_type": "fragment"
    }
   },
   "outputs": [],
   "source": [
    "structures = remote.structures.by_kinase_klifs_id(392)\n",
    "structures"
   ]
  },
  {
   "cell_type": "code",
   "execution_count": null,
   "metadata": {
    "slideshow": {
     "slide_type": "subslide"
    }
   },
   "outputs": [],
   "source": [
    "# Keep STI-bound structures\n",
    "structures = structures[structures[\"ligand.expo_id\"] == \"STI\"].copy()\n",
    "# Sort structures by highest KLIFS quality score\n",
    "structures.sort_values(\"structure.qualityscore\", ascending=False, inplace=True)\n",
    "structures"
   ]
  },
  {
   "cell_type": "markdown",
   "metadata": {
    "slideshow": {
     "slide_type": "fragment"
    }
   },
   "source": [
    "[KLIFS: a structural kinase-ligand interaction database](https://academic.oup.com/nar/article-lookup/doi/10.1093/nar/gkv1082) (Figure S4)\n",
    "> Missing atoms of missing residues are not taken into account and missing residues in key positions (conserved KIII.17, conserved EαC.24, gatekeeper GK.45, DxDFG.81 and FxDFG.82 of the DFG motif) are penalized twice."
   ]
  },
  {
   "cell_type": "markdown",
   "metadata": {
    "slideshow": {
     "slide_type": "slide"
    }
   },
   "source": [
    "### 5. Get the IFP for an example structure"
   ]
  },
  {
   "cell_type": "code",
   "execution_count": null,
   "metadata": {
    "slideshow": {
     "slide_type": "fragment"
    }
   },
   "outputs": [],
   "source": [
    "# Which interactions are taken into account?\n",
    "remote.interactions.interaction_types"
   ]
  },
  {
   "cell_type": "markdown",
   "metadata": {
    "slideshow": {
     "slide_type": "fragment"
    }
   },
   "source": [
    "[KLIFS: A Knowledge-Based Structural Database To Navigate Kinase–Ligand Interaction Space](https://pubs.acs.org/doi/10.1021/jm400378w)\n",
    "> __For each amino acid__ in the catalytic cleft, __seven types of__ protein−ligand __interactions__ are determined. The presence of a certain type of interaction results in the type-setting of a __“1”__ in the bit-string; otherwise a __“0”__ is used to indicate the absence of the interaction."
   ]
  },
  {
   "cell_type": "code",
   "execution_count": null,
   "metadata": {
    "slideshow": {
     "slide_type": "subslide"
    }
   },
   "outputs": [],
   "source": [
    "structure_ids = structures[\"structure.klifs_id\"].to_list()\n",
    "print(*structure_ids)"
   ]
  },
  {
   "cell_type": "code",
   "execution_count": null,
   "metadata": {
    "slideshow": {
     "slide_type": "fragment"
    }
   },
   "outputs": [],
   "source": [
    "interaction_fingerprints = remote.interactions.by_structure_klifs_id(structure_ids)\n",
    "interaction_fingerprints"
   ]
  },
  {
   "cell_type": "code",
   "execution_count": null,
   "metadata": {
    "slideshow": {
     "slide_type": "subslide"
    }
   },
   "outputs": [],
   "source": [
    "ifps = pd.DataFrame(interaction_fingerprints[\"interaction.fingerprint\"].apply(lambda x: list(x)).to_list())\n",
    "ifps = ifps.astype('int32')\n",
    "ifps.head(2)"
   ]
  },
  {
   "cell_type": "code",
   "execution_count": null,
   "metadata": {
    "slideshow": {
     "slide_type": "fragment"
    }
   },
   "outputs": [],
   "source": [
    "ifp_relative = (ifps.sum() / len(ifps)).to_list()\n",
    "len(ifp_relative)"
   ]
  },
  {
   "cell_type": "code",
   "execution_count": null,
   "metadata": {
    "slideshow": {
     "slide_type": "fragment"
    }
   },
   "outputs": [],
   "source": [
    "residue_feature_matrix = pd.DataFrame(\n",
    "    [ifp_relative[i:i+7] for i in range(0, len(ifp_relative), 7)], index=range(1,86)\n",
    ")\n",
    "residue_feature_matrix.columns = remote.interactions.interaction_types[\"interaction.name\"].to_list()\n",
    "residue_feature_matrix"
   ]
  },
  {
   "cell_type": "code",
   "execution_count": null,
   "metadata": {
    "slideshow": {
     "slide_type": "subslide"
    }
   },
   "outputs": [],
   "source": [
    "residue_feature_matrix.plot.bar(stacked=True, figsize=(15,5));"
   ]
  },
  {
   "cell_type": "markdown",
   "metadata": {
    "slideshow": {
     "slide_type": "slide"
    }
   },
   "source": [
    "### 6. Get pocket for example structure"
   ]
  },
  {
   "cell_type": "code",
   "execution_count": null,
   "metadata": {
    "scrolled": true,
    "slideshow": {
     "slide_type": "fragment"
    }
   },
   "outputs": [],
   "source": [
    "pocket = remote.pockets.by_structure_klifs_id(1048)\n",
    "pocket"
   ]
  },
  {
   "cell_type": "markdown",
   "metadata": {
    "slideshow": {
     "slide_type": "slide"
    }
   },
   "source": [
    "### 7. Get coordinates"
   ]
  },
  {
   "cell_type": "code",
   "execution_count": null,
   "metadata": {
    "slideshow": {
     "slide_type": "fragment"
    }
   },
   "outputs": [],
   "source": [
    "remote.coordinates"
   ]
  },
  {
   "cell_type": "markdown",
   "metadata": {
    "slideshow": {
     "slide_type": "subslide"
    }
   },
   "source": [
    "#### Coordinates as `DataFrame`"
   ]
  },
  {
   "cell_type": "code",
   "execution_count": null,
   "metadata": {
    "scrolled": true,
    "slideshow": {
     "slide_type": "fragment"
    }
   },
   "outputs": [],
   "source": [
    "remote.coordinates.to_dataframe(1048, entity=\"complex\", extension=\"pdb\")#.dropna()"
   ]
  },
  {
   "cell_type": "markdown",
   "metadata": {
    "slideshow": {
     "slide_type": "subslide"
    }
   },
   "source": [
    "#### Coordinates saved to a _pdb_ file"
   ]
  },
  {
   "cell_type": "code",
   "execution_count": null,
   "metadata": {
    "slideshow": {
     "slide_type": "fragment"
    }
   },
   "outputs": [],
   "source": [
    "filepath = remote.coordinates.to_pdb(1048, \".\", entity=\"complex\")\n",
    "filepath"
   ]
  },
  {
   "cell_type": "markdown",
   "metadata": {
    "slideshow": {
     "slide_type": "slide"
    }
   },
   "source": [
    "## Define and visualize subpockets"
   ]
  },
  {
   "cell_type": "code",
   "execution_count": null,
   "metadata": {
    "slideshow": {
     "slide_type": "fragment"
    }
   },
   "outputs": [],
   "source": [
    "from opencadd.structure.pocket import Pocket"
   ]
  },
  {
   "cell_type": "code",
   "execution_count": null,
   "metadata": {
    "slideshow": {
     "slide_type": "fragment"
    }
   },
   "outputs": [],
   "source": [
    "Pocket.from_file?"
   ]
  },
  {
   "cell_type": "code",
   "execution_count": null,
   "metadata": {},
   "outputs": [],
   "source": [
    "pocket.head(2)"
   ]
  },
  {
   "cell_type": "code",
   "execution_count": null,
   "metadata": {
    "slideshow": {
     "slide_type": "fragment"
    }
   },
   "outputs": [],
   "source": [
    "pocket_3d = Pocket.from_file(\n",
    "    filepath, \n",
    "    pocket[\"residue.id\"].to_list(), \n",
    "    \"example kinase\", \n",
    "    pocket[\"residue.klifs_id\"].to_list()\n",
    ")"
   ]
  },
  {
   "cell_type": "markdown",
   "metadata": {
    "slideshow": {
     "slide_type": "subslide"
    }
   },
   "source": [
    "### Add subpockets"
   ]
  },
  {
   "cell_type": "code",
   "execution_count": null,
   "metadata": {
    "slideshow": {
     "slide_type": "fragment"
    }
   },
   "outputs": [],
   "source": [
    "# Define subpockets (anchor residues, name, and color).\n",
    "subpockets = {\n",
    "    \"anchor_residue.klifs_ids\": [[16, 47, 80], [19, 24, 81], [6, 48, 75]],\n",
    "    \"subpocket.name\": [\"hinge_region\", \"dfg_region\", \"front_pocket\"],\n",
    "    \"subpocket.color\": [\"magenta\", \"cornflowerblue\", \"cyan\"]\n",
    "}\n",
    "subpockets = pd.DataFrame(subpockets)\n",
    "subpockets"
   ]
  },
  {
   "cell_type": "code",
   "execution_count": null,
   "metadata": {
    "slideshow": {
     "slide_type": "fragment"
    }
   },
   "outputs": [],
   "source": [
    "# Map residue KLIFS IDs > residue ID.\n",
    "subpockets[\"anchor_residue.ids\"] = subpockets[\"anchor_residue.klifs_ids\"].apply(\n",
    "    lambda x: pocket[pocket[\"residue.klifs_id\"].isin(x)][\"residue.id\"].to_list()\n",
    ")"
   ]
  },
  {
   "cell_type": "code",
   "execution_count": null,
   "metadata": {
    "slideshow": {
     "slide_type": "fragment"
    }
   },
   "outputs": [],
   "source": [
    "subpockets"
   ]
  },
  {
   "cell_type": "code",
   "execution_count": null,
   "metadata": {
    "slideshow": {
     "slide_type": "subslide"
    }
   },
   "outputs": [],
   "source": [
    "pocket_3d.add_subpocket?"
   ]
  },
  {
   "cell_type": "code",
   "execution_count": null,
   "metadata": {
    "slideshow": {
     "slide_type": "fragment"
    }
   },
   "outputs": [],
   "source": [
    "subpockets"
   ]
  },
  {
   "cell_type": "code",
   "execution_count": null,
   "metadata": {
    "slideshow": {
     "slide_type": "fragment"
    }
   },
   "outputs": [],
   "source": [
    "for _, subpocket in subpockets.iterrows():\n",
    "    pocket_3d.add_subpocket(\n",
    "        subpocket[\"subpocket.name\"], \n",
    "        subpocket[\"anchor_residue.ids\"],\n",
    "        subpocket[\"subpocket.color\"], \n",
    "        subpocket[\"anchor_residue.klifs_ids\"]\n",
    "    )"
   ]
  },
  {
   "cell_type": "markdown",
   "metadata": {
    "slideshow": {
     "slide_type": "subslide"
    }
   },
   "source": [
    "### Check out subpockets"
   ]
  },
  {
   "cell_type": "code",
   "execution_count": null,
   "metadata": {},
   "outputs": [],
   "source": [
    "pocket_3d.subpockets"
   ]
  },
  {
   "cell_type": "markdown",
   "metadata": {
    "slideshow": {
     "slide_type": "subslide"
    }
   },
   "source": [
    "### Check out anchor residues"
   ]
  },
  {
   "cell_type": "code",
   "execution_count": null,
   "metadata": {},
   "outputs": [],
   "source": [
    "pocket_3d.anchor_residues"
   ]
  },
  {
   "cell_type": "markdown",
   "metadata": {
    "slideshow": {
     "slide_type": "subslide"
    }
   },
   "source": [
    "### Add regions"
   ]
  },
  {
   "cell_type": "code",
   "execution_count": null,
   "metadata": {
    "slideshow": {
     "slide_type": "fragment"
    }
   },
   "outputs": [],
   "source": [
    "pocket_3d.add_region?"
   ]
  },
  {
   "cell_type": "code",
   "execution_count": null,
   "metadata": {
    "slideshow": {
     "slide_type": "fragment"
    }
   },
   "outputs": [],
   "source": [
    "pocket.head()"
   ]
  },
  {
   "cell_type": "code",
   "execution_count": null,
   "metadata": {
    "slideshow": {
     "slide_type": "fragment"
    }
   },
   "outputs": [],
   "source": [
    "for (region, color), group in pocket.groupby([\"residue.klifs_region_id\", \"residue.klifs_color\"]):\n",
    "    pocket_3d.add_region(\n",
    "        region, \n",
    "        group[\"residue.id\"].to_list(), \n",
    "        color, \n",
    "        group[\"residue.klifs_region_id\"].to_list()\n",
    "    )"
   ]
  },
  {
   "cell_type": "markdown",
   "metadata": {
    "slideshow": {
     "slide_type": "subslide"
    }
   },
   "source": [
    "### Check out regions"
   ]
  },
  {
   "cell_type": "code",
   "execution_count": null,
   "metadata": {},
   "outputs": [],
   "source": [
    "pocket_3d.regions"
   ]
  },
  {
   "cell_type": "markdown",
   "metadata": {
    "slideshow": {
     "slide_type": "subslide"
    }
   },
   "source": [
    "### Visualize pocket"
   ]
  },
  {
   "cell_type": "code",
   "execution_count": null,
   "metadata": {
    "slideshow": {
     "slide_type": "fragment"
    }
   },
   "outputs": [],
   "source": [
    "view = pocket_3d.visualize()\n",
    "view.add_representation(\"ball+stick\", selection=\"STI\")  # Show STI\n",
    "view"
   ]
  },
  {
   "cell_type": "code",
   "execution_count": null,
   "metadata": {
    "slideshow": {
     "slide_type": "slide"
    }
   },
   "outputs": [],
   "source": [
    "# Remove downloaded file\n",
    "filepath.unlink()"
   ]
  },
  {
   "cell_type": "markdown",
   "metadata": {
    "slideshow": {
     "slide_type": "slide"
    }
   },
   "source": [
    "## Thank you for your attention.\n",
    "\n",
    "### Special thanks to Jaime for a fun code review!"
   ]
  }
 ],
 "metadata": {
  "celltoolbar": "Slideshow",
  "kernelspec": {
   "display_name": "Python 3",
   "language": "python",
   "name": "python3"
  },
  "language_info": {
   "codemirror_mode": {
    "name": "ipython",
    "version": 3
   },
   "file_extension": ".py",
   "mimetype": "text/x-python",
   "name": "python",
   "nbconvert_exporter": "python",
   "pygments_lexer": "ipython3",
   "version": "3.8.6"
  }
 },
 "nbformat": 4,
 "nbformat_minor": 4
}
